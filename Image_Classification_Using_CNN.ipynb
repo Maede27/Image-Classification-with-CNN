{
  "nbformat": 4,
  "nbformat_minor": 0,
  "metadata": {
    "colab": {
      "name": "Image Classification Using CNN.ipynb",
      "provenance": [],
      "collapsed_sections": []
    },
    "kernelspec": {
      "name": "python3",
      "display_name": "Python 3"
    }
  },
  "cells": [
    {
      "cell_type": "code",
      "metadata": {
        "id": "WUcz5fDJbWbA",
        "colab_type": "code",
        "colab": {}
      },
      "source": [
        "pip install -q tensorflow tensorflow-datasets"
      ],
      "execution_count": 1,
      "outputs": []
    },
    {
      "cell_type": "markdown",
      "metadata": {
        "id": "cwtSjX7joghn",
        "colab_type": "text"
      },
      "source": [
        "## Import required libraries"
      ]
    },
    {
      "cell_type": "code",
      "metadata": {
        "id": "TV2yiKDIopRb",
        "colab_type": "code",
        "colab": {}
      },
      "source": [
        "import matplotlib.pyplot as plt\n",
        "import numpy as np\n",
        "\n",
        "import tensorflow as tf\n",
        "import tensorflow_datasets as tfds\n",
        "\n",
        "from tensorflow import keras\n",
        "tfds.disable_progress_bar()"
      ],
      "execution_count": 2,
      "outputs": []
    },
    {
      "cell_type": "markdown",
      "metadata": {
        "id": "4Sg0J-h50u8K",
        "colab_type": "text"
      },
      "source": [
        "## List of the  available datasets in Tensorflow"
      ]
    },
    {
      "cell_type": "code",
      "metadata": {
        "id": "xhJIklOBorLp",
        "colab_type": "code",
        "colab": {
          "base_uri": "https://localhost:8080/",
          "height": 1000
        },
        "outputId": "9c8614e1-28a3-4d47-bb52-c83257018e3d"
      },
      "source": [
        "# https://www.tensorflow.org/datasets/overview\n",
        "# https://www.tensorflow.org/datasets/catalog/overview\n",
        "tfds.list_builders()"
      ],
      "execution_count": 3,
      "outputs": [
        {
          "output_type": "execute_result",
          "data": {
            "text/plain": [
              "['abstract_reasoning',\n",
              " 'aeslc',\n",
              " 'aflw2k3d',\n",
              " 'amazon_us_reviews',\n",
              " 'arc',\n",
              " 'bair_robot_pushing_small',\n",
              " 'beans',\n",
              " 'big_patent',\n",
              " 'bigearthnet',\n",
              " 'billsum',\n",
              " 'binarized_mnist',\n",
              " 'binary_alpha_digits',\n",
              " 'c4',\n",
              " 'caltech101',\n",
              " 'caltech_birds2010',\n",
              " 'caltech_birds2011',\n",
              " 'cars196',\n",
              " 'cassava',\n",
              " 'cats_vs_dogs',\n",
              " 'celeb_a',\n",
              " 'celeb_a_hq',\n",
              " 'cfq',\n",
              " 'chexpert',\n",
              " 'cifar10',\n",
              " 'cifar100',\n",
              " 'cifar10_1',\n",
              " 'cifar10_corrupted',\n",
              " 'citrus_leaves',\n",
              " 'cityscapes',\n",
              " 'civil_comments',\n",
              " 'clevr',\n",
              " 'cmaterdb',\n",
              " 'cnn_dailymail',\n",
              " 'coco',\n",
              " 'coil100',\n",
              " 'colorectal_histology',\n",
              " 'colorectal_histology_large',\n",
              " 'cos_e',\n",
              " 'curated_breast_imaging_ddsm',\n",
              " 'cycle_gan',\n",
              " 'deep_weeds',\n",
              " 'definite_pronoun_resolution',\n",
              " 'diabetic_retinopathy_detection',\n",
              " 'div2k',\n",
              " 'dmlab',\n",
              " 'downsampled_imagenet',\n",
              " 'dsprites',\n",
              " 'dtd',\n",
              " 'duke_ultrasound',\n",
              " 'dummy_dataset_shared_generator',\n",
              " 'dummy_mnist',\n",
              " 'emnist',\n",
              " 'eraser_multi_rc',\n",
              " 'esnli',\n",
              " 'eurosat',\n",
              " 'fashion_mnist',\n",
              " 'flic',\n",
              " 'flores',\n",
              " 'food101',\n",
              " 'gap',\n",
              " 'gigaword',\n",
              " 'glue',\n",
              " 'groove',\n",
              " 'higgs',\n",
              " 'horses_or_humans',\n",
              " 'i_naturalist2017',\n",
              " 'image_label_folder',\n",
              " 'imagenet2012',\n",
              " 'imagenet2012_corrupted',\n",
              " 'imagenet_resized',\n",
              " 'imagenette',\n",
              " 'imagewang',\n",
              " 'imdb_reviews',\n",
              " 'iris',\n",
              " 'kitti',\n",
              " 'kmnist',\n",
              " 'lfw',\n",
              " 'librispeech',\n",
              " 'librispeech_lm',\n",
              " 'libritts',\n",
              " 'lm1b',\n",
              " 'lost_and_found',\n",
              " 'lsun',\n",
              " 'malaria',\n",
              " 'math_dataset',\n",
              " 'mnist',\n",
              " 'mnist_corrupted',\n",
              " 'movie_rationales',\n",
              " 'moving_mnist',\n",
              " 'multi_news',\n",
              " 'multi_nli',\n",
              " 'multi_nli_mismatch',\n",
              " 'natural_questions',\n",
              " 'newsroom',\n",
              " 'nsynth',\n",
              " 'omniglot',\n",
              " 'open_images_v4',\n",
              " 'opinosis',\n",
              " 'oxford_flowers102',\n",
              " 'oxford_iiit_pet',\n",
              " 'para_crawl',\n",
              " 'patch_camelyon',\n",
              " 'pet_finder',\n",
              " 'places365_small',\n",
              " 'plant_leaves',\n",
              " 'plant_village',\n",
              " 'plantae_k',\n",
              " 'qa4mre',\n",
              " 'quickdraw_bitmap',\n",
              " 'reddit_tifu',\n",
              " 'resisc45',\n",
              " 'rock_paper_scissors',\n",
              " 'rock_you',\n",
              " 'scan',\n",
              " 'scene_parse150',\n",
              " 'scicite',\n",
              " 'scientific_papers',\n",
              " 'shapes3d',\n",
              " 'smallnorb',\n",
              " 'snli',\n",
              " 'so2sat',\n",
              " 'speech_commands',\n",
              " 'squad',\n",
              " 'stanford_dogs',\n",
              " 'stanford_online_products',\n",
              " 'starcraft_video',\n",
              " 'sun397',\n",
              " 'super_glue',\n",
              " 'svhn_cropped',\n",
              " 'ted_hrlr_translate',\n",
              " 'ted_multi_translate',\n",
              " 'tf_flowers',\n",
              " 'the300w_lp',\n",
              " 'tiny_shakespeare',\n",
              " 'titanic',\n",
              " 'trivia_qa',\n",
              " 'uc_merced',\n",
              " 'ucf101',\n",
              " 'vgg_face2',\n",
              " 'visual_domain_decathlon',\n",
              " 'voc',\n",
              " 'wider_face',\n",
              " 'wikihow',\n",
              " 'wikipedia',\n",
              " 'wmt14_translate',\n",
              " 'wmt15_translate',\n",
              " 'wmt16_translate',\n",
              " 'wmt17_translate',\n",
              " 'wmt18_translate',\n",
              " 'wmt19_translate',\n",
              " 'wmt_t2t_translate',\n",
              " 'wmt_translate',\n",
              " 'xnli',\n",
              " 'xsum',\n",
              " 'yelp_polarity_reviews']"
            ]
          },
          "metadata": {
            "tags": []
          },
          "execution_count": 3
        }
      ]
    },
    {
      "cell_type": "markdown",
      "metadata": {
        "id": "kuuUQiZP05kr",
        "colab_type": "text"
      },
      "source": [
        "## smallnorb dataset will be selected"
      ]
    },
    {
      "cell_type": "code",
      "metadata": {
        "id": "l5zMZxs8ovig",
        "colab_type": "code",
        "colab": {
          "base_uri": "https://localhost:8080/",
          "height": 625
        },
        "outputId": "3f9825c7-ca8d-41fa-95c9-d122c84fc9fa"
      },
      "source": [
        "build = tfds.builder('smallnorb')\n",
        "detail = build.info\n",
        "detail"
      ],
      "execution_count": 4,
      "outputs": [
        {
          "output_type": "execute_result",
          "data": {
            "text/plain": [
              "tfds.core.DatasetInfo(\n",
              "    name='smallnorb',\n",
              "    version=2.0.0,\n",
              "    description='\\\n",
              "This database is intended for experiments in 3D object recognition from shape. It contains images of 50 toys belonging to 5 generic categories: four-legged animals, human figures, airplanes, trucks, and cars. The objects were imaged by two cameras under 6 lighting conditions, 9 elevations (30 to 70 degrees every 5 degrees), and 18 azimuths (0 to 340 every 20 degrees).\n",
              "\n",
              "The training set is composed of 5 instances of each category (instances 4, 6, 7, 8 and 9), and the test set of the remaining 5 instances (instances 0, 1, 2, 3, and 5).\n",
              "',\n",
              "    homepage='https://cs.nyu.edu/~ylclab/data/norb-v1.0-small/',\n",
              "    features=FeaturesDict({\n",
              "        'image': Image(shape=(96, 96, 1), dtype=tf.uint8),\n",
              "        'image2': Image(shape=(96, 96, 1), dtype=tf.uint8),\n",
              "        'instance': ClassLabel(shape=(), dtype=tf.int64, num_classes=10),\n",
              "        'label_azimuth': ClassLabel(shape=(), dtype=tf.int64, num_classes=18),\n",
              "        'label_category': ClassLabel(shape=(), dtype=tf.int64, num_classes=5),\n",
              "        'label_elevation': ClassLabel(shape=(), dtype=tf.int64, num_classes=9),\n",
              "        'label_lighting': ClassLabel(shape=(), dtype=tf.int64, num_classes=6),\n",
              "    }),\n",
              "    total_num_examples=48600,\n",
              "    splits={\n",
              "        'test': 24300,\n",
              "        'train': 24300,\n",
              "    },\n",
              "    supervised_keys=('image', 'label_category'),\n",
              "    citation=\"\"\"\\\n",
              "    @article{LeCun2004LearningMF,\n",
              "      title={Learning methods for generic object recognition with invariance to pose and lighting},\n",
              "      author={Yann LeCun and Fu Jie Huang and L{\\'e}on Bottou},\n",
              "      journal={Proceedings of the 2004 IEEE Computer Society Conference on Computer Vision and Pattern Recognition},\n",
              "      year={2004},\n",
              "      volume={2},\n",
              "      pages={II-104 Vol.2}\n",
              "    }\"\"\",\n",
              "    redistribution_info=,\n",
              ")"
            ]
          },
          "metadata": {
            "tags": []
          },
          "execution_count": 4
        }
      ]
    },
    {
      "cell_type": "markdown",
      "metadata": {
        "id": "QJmn-Tl_1CD9",
        "colab_type": "text"
      },
      "source": [
        "## Train-Test Split"
      ]
    },
    {
      "cell_type": "code",
      "metadata": {
        "id": "5H5AykXrwPPO",
        "colab_type": "code",
        "colab": {}
      },
      "source": [
        "data_train = tfds.load(name=\"smallnorb\", split=\"train\")\n",
        "data_test = tfds.load(name=\"smallnorb\", split=\"test\")\n",
        "# validation_test = tfds.load(name=\"smallnorb\", split=\"validation\")"
      ],
      "execution_count": 5,
      "outputs": []
    },
    {
      "cell_type": "code",
      "metadata": {
        "id": "rHjrnT-J0fsU",
        "colab_type": "code",
        "colab": {
          "base_uri": "https://localhost:8080/",
          "height": 524
        },
        "outputId": "a05809f9-8ec3-4d1e-a40b-e5a7d510ac06"
      },
      "source": [
        "fig = tfds.show_examples(detail, data_train, image_key= 'image')"
      ],
      "execution_count": 6,
      "outputs": [
        {
          "output_type": "display_data",
          "data": {
            "image/png": "[encoded data removed]",
            "text/plain": [
              "<Figure size 648x648 with 9 Axes>"
            ]
          },
          "metadata": {
            "tags": []
          }
        }
      ]
    },
    {
      "cell_type": "code",
      "metadata": {
        "id": "Q05nQWM8QQlf",
        "colab_type": "code",
        "colab": {}
      },
      "source": [
        "image_training = [example['image'] for example in data_train]"
      ],
      "execution_count": 7,
      "outputs": []
    },
    {
      "cell_type": "code",
      "metadata": {
        "id": "HIpxn5kzQyeR",
        "colab_type": "code",
        "colab": {
          "base_uri": "https://localhost:8080/",
          "height": 34
        },
        "outputId": "b3ffe175-48ef-40dc-f105-3007de2c1c38"
      },
      "source": [
        "type(image_training[0])"
      ],
      "execution_count": 8,
      "outputs": [
        {
          "output_type": "execute_result",
          "data": {
            "text/plain": [
              "tensorflow.python.framework.ops.EagerTensor"
            ]
          },
          "metadata": {
            "tags": []
          },
          "execution_count": 8
        }
      ]
    },
    {
      "cell_type": "markdown",
      "metadata": {
        "id": "ZxfkIA2B180E",
        "colab_type": "text"
      },
      "source": [
        "## Change the format of images to numpy array\n"
      ]
    },
    {
      "cell_type": "code",
      "metadata": {
        "id": "XYSw8wmdr477",
        "colab_type": "code",
        "colab": {}
      },
      "source": [
        "image_training = np.array([example['image'].numpy()[:,:,0] for example in data_train])\n",
        "label_training = np.array([example['label_category'].numpy() for example in data_train])\n",
        "\n",
        "image_test = np.array([example['image'].numpy()[:,:,0] for example in data_test])\n",
        "label_test = np.array([example['label_category'].numpy() for example in data_test])"
      ],
      "execution_count": 9,
      "outputs": []
    },
    {
      "cell_type": "code",
      "metadata": {
        "id": "hnQFmEAlPzGS",
        "colab_type": "code",
        "colab": {
          "base_uri": "https://localhost:8080/",
          "height": 34
        },
        "outputId": "e40dcc10-8b7e-426e-cc54-6890c99f10bc"
      },
      "source": [
        "type(image_training[0])"
      ],
      "execution_count": 10,
      "outputs": [
        {
          "output_type": "execute_result",
          "data": {
            "text/plain": [
              "numpy.ndarray"
            ]
          },
          "metadata": {
            "tags": []
          },
          "execution_count": 10
        }
      ]
    },
    {
      "cell_type": "code",
      "metadata": {
        "id": "t3U_dSiFuJnZ",
        "colab_type": "code",
        "colab": {}
      },
      "source": [
        "image_training = image_training.reshape(24300, 96, 96 , 1)\n",
        "image_test = image_test.reshape(24300, 96, 96, 1)\n",
        "\n",
        "image_training = image_training.astype('float32')\n",
        "image_test = image_test.astype('float32')\n",
        "\n",
        "image_training /= 255\n",
        "image_test /= 255"
      ],
      "execution_count": 11,
      "outputs": []
    },
    {
      "cell_type": "markdown",
      "metadata": {
        "id": "K-qEZ6thcAur",
        "colab_type": "text"
      },
      "source": [
        "## Train a neural network"
      ]
    },
    {
      "cell_type": "code",
      "metadata": {
        "id": "Vi1JSzZCenCh",
        "colab_type": "code",
        "colab": {
          "base_uri": "https://localhost:8080/",
          "height": 202
        },
        "outputId": "11ac4c10-ff78-4a74-c5ff-2784e97422b8"
      },
      "source": [
        "NN = keras.Sequential([\n",
        "  keras.layers.Flatten(),\n",
        "  keras.layers.Dense(512, activation='relu'),\n",
        "  keras.layers.Dense(256, activation='relu'),\n",
        "  keras.layers.Dense(5, activation='softmax') \n",
        "])\n",
        "\n",
        "NN.compile(optimizer='adam',\n",
        "              loss=keras.losses.SparseCategoricalCrossentropy(),\n",
        "              metrics=['accuracy'])\n",
        "\n",
        "NN.fit(image_training, label_training, epochs=5, batch_size=32)"
      ],
      "execution_count": 12,
      "outputs": [
        {
          "output_type": "stream",
          "text": [
            "Epoch 1/5\n",
            "760/760 [==============================] - 23s 30ms/step - loss: 1.3313 - accuracy: 0.4919\n",
            "Epoch 2/5\n",
            "760/760 [==============================] - 23s 30ms/step - loss: 0.8499 - accuracy: 0.6405\n",
            "Epoch 3/5\n",
            "760/760 [==============================] - 23s 30ms/step - loss: 0.7462 - accuracy: 0.6860\n",
            "Epoch 4/5\n",
            "760/760 [==============================] - 23s 30ms/step - loss: 0.6857 - accuracy: 0.7207\n",
            "Epoch 5/5\n",
            "760/760 [==============================] - 23s 30ms/step - loss: 0.5794 - accuracy: 0.7701\n"
          ],
          "name": "stdout"
        },
        {
          "output_type": "execute_result",
          "data": {
            "text/plain": [
              "<tensorflow.python.keras.callbacks.History at 0x7f36028efb38>"
            ]
          },
          "metadata": {
            "tags": []
          },
          "execution_count": 12
        }
      ]
    },
    {
      "cell_type": "code",
      "metadata": {
        "id": "AhZMIxp6iynt",
        "colab_type": "code",
        "colab": {
          "base_uri": "https://localhost:8080/",
          "height": 50
        },
        "outputId": "5b25e13a-c8a4-4d30-ec65-dbbe8471381c"
      },
      "source": [
        "NN.evaluate(image_test, label_test)"
      ],
      "execution_count": 13,
      "outputs": [
        {
          "output_type": "stream",
          "text": [
            "760/760 [==============================] - 8s 10ms/step - loss: 0.9145 - accuracy: 0.6387\n"
          ],
          "name": "stdout"
        },
        {
          "output_type": "execute_result",
          "data": {
            "text/plain": [
              "[0.9144730567932129, 0.6387242674827576]"
            ]
          },
          "metadata": {
            "tags": []
          },
          "execution_count": 13
        }
      ]
    },
    {
      "cell_type": "markdown",
      "metadata": {
        "id": "MRFkAA_NfJ-L",
        "colab_type": "text"
      },
      "source": [
        "## Train a Convolutional Neural Network"
      ]
    },
    {
      "cell_type": "code",
      "metadata": {
        "id": "XcKTOnHZxTtq",
        "colab_type": "code",
        "colab": {
          "base_uri": "https://localhost:8080/",
          "height": 202
        },
        "outputId": "b6cb6e84-68e0-4e30-92a5-cb27439546b1"
      },
      "source": [
        "CNN = keras.Sequential([\n",
        "   keras.layers.AveragePooling2D(6,5, input_shape=(96,96,1)),\n",
        "   keras.layers.Conv2D(64, 5, activation='relu'),\n",
        "   keras.layers.Conv2D(32, 5, activation='relu'),\n",
        "   keras.layers.MaxPool2D(2,2),\n",
        "   keras.layers.Dropout(0.5),\n",
        "   keras.layers.Flatten(),\n",
        "   keras.layers.Dense(128, activation='relu'),\n",
        "   keras.layers.Dense(5, activation='softmax')\n",
        "])\n",
        "\n",
        "CNN.compile(optimizer='adam',\n",
        "              loss=keras.losses.SparseCategoricalCrossentropy(),\n",
        "              metrics=['accuracy'])\n",
        "\n",
        "CNN.fit(image_training, label_training, epochs=5, batch_size=32)"
      ],
      "execution_count": 14,
      "outputs": [
        {
          "output_type": "stream",
          "text": [
            "Epoch 1/5\n",
            "760/760 [==============================] - 48s 63ms/step - loss: 0.7817 - accuracy: 0.6768\n",
            "Epoch 2/5\n",
            "760/760 [==============================] - 48s 63ms/step - loss: 0.3685 - accuracy: 0.8581\n",
            "Epoch 3/5\n",
            "760/760 [==============================] - 48s 63ms/step - loss: 0.2638 - accuracy: 0.8995\n",
            "Epoch 4/5\n",
            "760/760 [==============================] - 48s 63ms/step - loss: 0.2090 - accuracy: 0.9215\n",
            "Epoch 5/5\n",
            "760/760 [==============================] - 48s 63ms/step - loss: 0.1749 - accuracy: 0.9345\n"
          ],
          "name": "stdout"
        },
        {
          "output_type": "execute_result",
          "data": {
            "text/plain": [
              "<tensorflow.python.keras.callbacks.History at 0x7f360154c6a0>"
            ]
          },
          "metadata": {
            "tags": []
          },
          "execution_count": 14
        }
      ]
    },
    {
      "cell_type": "code",
      "metadata": {
        "id": "lXDcKZA0i6qf",
        "colab_type": "code",
        "colab": {
          "base_uri": "https://localhost:8080/",
          "height": 50
        },
        "outputId": "0c1a5c39-2544-4a2c-e207-2d36823601f3"
      },
      "source": [
        "CNN.evaluate(image_test,label_test)"
      ],
      "execution_count": 15,
      "outputs": [
        {
          "output_type": "stream",
          "text": [
            "760/760 [==============================] - 15s 20ms/step - loss: 0.5640 - accuracy: 0.8132\n"
          ],
          "name": "stdout"
        },
        {
          "output_type": "execute_result",
          "data": {
            "text/plain": [
              "[0.5639890432357788, 0.8132098913192749]"
            ]
          },
          "metadata": {
            "tags": []
          },
          "execution_count": 15
        }
      ]
    },
    {
      "cell_type": "markdown",
      "metadata": {
        "id": "4KQADeYZ0M70",
        "colab_type": "text"
      },
      "source": [
        "## Tune hyperparameters"
      ]
    },
    {
      "cell_type": "code",
      "metadata": {
        "id": "b76gNAOt0ns7",
        "colab_type": "code",
        "colab": {}
      },
      "source": [
        "pip install -q -U keras-tuner"
      ],
      "execution_count": 20,
      "outputs": []
    },
    {
      "cell_type": "code",
      "metadata": {
        "id": "wNXyP74M2RBg",
        "colab_type": "code",
        "colab": {
          "base_uri": "https://localhost:8080/",
          "height": 1000
        },
        "outputId": "9116e0d2-3635-44f3-8f7a-b1c4a7af6862"
      },
      "source": [
        "from kerastuner.tuners import RandomSearch\n",
        "\n",
        "def build_model(hp):\n",
        "  CNN = keras.Sequential()\n",
        "\n",
        "  CNN.add(keras.layers.AveragePooling2D(6,5,input_shape=(96,96,1)))\n",
        "\n",
        "  for i in range(hp.Int(\"Conv Layers\", min_value=0, max_value=3)):\n",
        "    CNN.add(keras.layers.Conv2D(hp.Choice(f\"layer_{i}_filters\", [16,32,64]), 3, activation='relu'))\n",
        "  \n",
        "  CNN.add(keras.layers.MaxPool2D(2,2))\n",
        "  CNN.add(keras.layers.Dropout(0.5))\n",
        "  CNN.add(keras.layers.Flatten())\n",
        "\n",
        "  CNN.add(keras.layers.Dense(hp.Choice(\"Dense layer\", [64, 128, 256, 512, 1024]), activation='relu'))\n",
        "\n",
        "  CNN.add(keras.layers.Dense(5, activation='softmax'))\n",
        "\n",
        "  CNN.compile(optimizer='adam',\n",
        "              loss=keras.losses.SparseCategoricalCrossentropy(),\n",
        "              metrics=['accuracy'])\n",
        "  \n",
        "  return CNN\n",
        "\n",
        "tuner = RandomSearch(\n",
        "    build_model,\n",
        "    objective='val_accuracy',\n",
        "    max_trials=32,\n",
        ")\n",
        "\n",
        "tuner.search(image_training, label_training, validation_data=(image_test, label_test), epochs=10, batch_size=32)"
      ],
      "execution_count": 24,
      "outputs": [
        {
          "output_type": "stream",
          "text": [
            "INFO:tensorflow:Reloading Oracle from existing project ./untitled_project/oracle.json\n"
          ],
          "name": "stdout"
        },
        {
          "output_type": "stream",
          "text": [
            "INFO:tensorflow:Reloading Oracle from existing project ./untitled_project/oracle.json\n"
          ],
          "name": "stderr"
        },
        {
          "output_type": "stream",
          "text": [
            "INFO:tensorflow:Reloading Tuner from ./untitled_project/tuner0.json\n"
          ],
          "name": "stdout"
        },
        {
          "output_type": "stream",
          "text": [
            "INFO:tensorflow:Reloading Tuner from ./untitled_project/tuner0.json\n"
          ],
          "name": "stderr"
        },
        {
          "output_type": "stream",
          "text": [
            "Epoch 1/10\n",
            "760/760 [==============================] - 103s 135ms/step - loss: 0.5114 - accuracy: 0.7892 - val_loss: 0.4237 - val_accuracy: 0.8492\n",
            "Epoch 2/10\n",
            "760/760 [==============================] - 105s 138ms/step - loss: 0.1186 - accuracy: 0.9568 - val_loss: 0.6665 - val_accuracy: 0.8068\n",
            "Epoch 3/10\n",
            "760/760 [==============================] - 103s 136ms/step - loss: 0.0608 - accuracy: 0.9787 - val_loss: 0.6437 - val_accuracy: 0.8461\n",
            "Epoch 4/10\n",
            "760/760 [==============================] - 103s 135ms/step - loss: 0.0405 - accuracy: 0.9854 - val_loss: 0.9164 - val_accuracy: 0.8142\n",
            "Epoch 5/10\n",
            "760/760 [==============================] - 103s 135ms/step - loss: 0.0349 - accuracy: 0.9872 - val_loss: 0.8832 - val_accuracy: 0.8244\n",
            "Epoch 6/10\n",
            "760/760 [==============================] - 103s 136ms/step - loss: 0.0302 - accuracy: 0.9901 - val_loss: 0.6157 - val_accuracy: 0.8605\n",
            "Epoch 7/10\n",
            "760/760 [==============================] - 103s 135ms/step - loss: 0.0218 - accuracy: 0.9933 - val_loss: 1.0473 - val_accuracy: 0.8290\n",
            "Epoch 8/10\n",
            "760/760 [==============================] - 104s 137ms/step - loss: 0.0182 - accuracy: 0.9935 - val_loss: 0.9943 - val_accuracy: 0.8500\n",
            "Epoch 9/10\n",
            "760/760 [==============================] - 104s 137ms/step - loss: 0.0167 - accuracy: 0.9948 - val_loss: 0.6991 - val_accuracy: 0.8840\n",
            "Epoch 10/10\n",
            "760/760 [==============================] - 103s 135ms/step - loss: 0.0173 - accuracy: 0.9939 - val_loss: 1.0102 - val_accuracy: 0.8307\n"
          ],
          "name": "stdout"
        },
        {
          "output_type": "display_data",
          "data": {
            "text/html": [
              "<span style=\"color:#4527A0\"><h1 style=\"font-size:18px\">Trial complete</h1></span>"
            ],
            "text/plain": [
              "<IPython.core.display.HTML object>"
            ]
          },
          "metadata": {
            "tags": []
          }
        },
        {
          "output_type": "display_data",
          "data": {
            "text/html": [
              "<span style=\"color:#4527A0\"><h1 style=\"font-size:18px\">Trial summary</h1></span>"
            ],
            "text/plain": [
              "<IPython.core.display.HTML object>"
            ]
          },
          "metadata": {
            "tags": []
          }
        },
        {
          "output_type": "display_data",
          "data": {
            "text/html": [
              "<span style=\"color:cyan\"> |-Trial ID: 5e126d38c3d7f825453c59e2aa1841d7</span>"
            ],
            "text/plain": [
              "<IPython.core.display.HTML object>"
            ]
          },
          "metadata": {
            "tags": []
          }
        },
        {
          "output_type": "display_data",
          "data": {
            "text/html": [
              "<span style=\"color:cyan\"> |-Score: 0.8839505910873413</span>"
            ],
            "text/plain": [
              "<IPython.core.display.HTML object>"
            ]
          },
          "metadata": {
            "tags": []
          }
        },
        {
          "output_type": "display_data",
          "data": {
            "text/html": [
              "<span style=\"color:cyan\"> |-Best step: 0</span>"
            ],
            "text/plain": [
              "<IPython.core.display.HTML object>"
            ]
          },
          "metadata": {
            "tags": []
          }
        },
        {
          "output_type": "display_data",
          "data": {
            "text/html": [
              "<span style=\"color:#7E57C2\"><h2 style=\"font-size:16px\">Hyperparameters:</h2></span>"
            ],
            "text/plain": [
              "<IPython.core.display.HTML object>"
            ]
          },
          "metadata": {
            "tags": []
          }
        },
        {
          "output_type": "display_data",
          "data": {
            "text/html": [
              "<span style=\"color:cyan\"> |-Conv Layers: 3</span>"
            ],
            "text/plain": [
              "<IPython.core.display.HTML object>"
            ]
          },
          "metadata": {
            "tags": []
          }
        },
        {
          "output_type": "display_data",
          "data": {
            "text/html": [
              "<span style=\"color:blue\"> |-Dense layer: 256</span>"
            ],
            "text/plain": [
              "<IPython.core.display.HTML object>"
            ]
          },
          "metadata": {
            "tags": []
          }
        },
        {
          "output_type": "display_data",
          "data": {
            "text/html": [
              "<span style=\"color:cyan\"> |-layer_0_filters: 64</span>"
            ],
            "text/plain": [
              "<IPython.core.display.HTML object>"
            ]
          },
          "metadata": {
            "tags": []
          }
        },
        {
          "output_type": "display_data",
          "data": {
            "text/html": [
              "<span style=\"color:blue\"> |-layer_1_filters: 64</span>"
            ],
            "text/plain": [
              "<IPython.core.display.HTML object>"
            ]
          },
          "metadata": {
            "tags": []
          }
        },
        {
          "output_type": "display_data",
          "data": {
            "text/html": [
              "<span style=\"color:cyan\"> |-layer_2_filters: 64</span>"
            ],
            "text/plain": [
              "<IPython.core.display.HTML object>"
            ]
          },
          "metadata": {
            "tags": []
          }
        },
        {
          "output_type": "stream",
          "text": [
            "Epoch 1/10\n",
            "760/760 [==============================] - 29s 38ms/step - loss: 0.8123 - accuracy: 0.6887 - val_loss: 0.5697 - val_accuracy: 0.7927\n",
            "Epoch 2/10\n",
            "760/760 [==============================] - 28s 37ms/step - loss: 0.3629 - accuracy: 0.8706 - val_loss: 0.4775 - val_accuracy: 0.8032\n",
            "Epoch 3/10\n",
            "760/760 [==============================] - 29s 38ms/step - loss: 0.2370 - accuracy: 0.9171 - val_loss: 0.3754 - val_accuracy: 0.8705\n",
            "Epoch 4/10\n",
            "760/760 [==============================] - 28s 37ms/step - loss: 0.1735 - accuracy: 0.9384 - val_loss: 0.3664 - val_accuracy: 0.8803\n",
            "Epoch 5/10\n",
            "760/760 [==============================] - 29s 38ms/step - loss: 0.1367 - accuracy: 0.9515 - val_loss: 0.3633 - val_accuracy: 0.8766\n",
            "Epoch 6/10\n",
            "760/760 [==============================] - 29s 38ms/step - loss: 0.1134 - accuracy: 0.9605 - val_loss: 0.3729 - val_accuracy: 0.8721\n",
            "Epoch 7/10\n",
            "760/760 [==============================] - 29s 38ms/step - loss: 0.0944 - accuracy: 0.9681 - val_loss: 0.3769 - val_accuracy: 0.8947\n",
            "Epoch 8/10\n",
            "760/760 [==============================] - 28s 37ms/step - loss: 0.0820 - accuracy: 0.9719 - val_loss: 0.4567 - val_accuracy: 0.8761\n",
            "Epoch 9/10\n",
            "760/760 [==============================] - 28s 37ms/step - loss: 0.0702 - accuracy: 0.9763 - val_loss: 0.4487 - val_accuracy: 0.8860\n",
            "Epoch 10/10\n",
            "760/760 [==============================] - 28s 37ms/step - loss: 0.0625 - accuracy: 0.9790 - val_loss: 0.5679 - val_accuracy: 0.8658\n"
          ],
          "name": "stdout"
        },
        {
          "output_type": "display_data",
          "data": {
            "text/html": [
              "<span style=\"color:#4527A0\"><h1 style=\"font-size:18px\">Trial complete</h1></span>"
            ],
            "text/plain": [
              "<IPython.core.display.HTML object>"
            ]
          },
          "metadata": {
            "tags": []
          }
        },
        {
          "output_type": "display_data",
          "data": {
            "text/html": [
              "<span style=\"color:#4527A0\"><h1 style=\"font-size:18px\">Trial summary</h1></span>"
            ],
            "text/plain": [
              "<IPython.core.display.HTML object>"
            ]
          },
          "metadata": {
            "tags": []
          }
        },
        {
          "output_type": "display_data",
          "data": {
            "text/html": [
              "<span style=\"color:cyan\"> |-Trial ID: 8dd6fa4d0bbdf1dd25483f996d1c9990</span>"
            ],
            "text/plain": [
              "<IPython.core.display.HTML object>"
            ]
          },
          "metadata": {
            "tags": []
          }
        },
        {
          "output_type": "display_data",
          "data": {
            "text/html": [
              "<span style=\"color:cyan\"> |-Score: 0.8946502208709717</span>"
            ],
            "text/plain": [
              "<IPython.core.display.HTML object>"
            ]
          },
          "metadata": {
            "tags": []
          }
        },
        {
          "output_type": "display_data",
          "data": {
            "text/html": [
              "<span style=\"color:cyan\"> |-Best step: 0</span>"
            ],
            "text/plain": [
              "<IPython.core.display.HTML object>"
            ]
          },
          "metadata": {
            "tags": []
          }
        },
        {
          "output_type": "display_data",
          "data": {
            "text/html": [
              "<span style=\"color:#7E57C2\"><h2 style=\"font-size:16px\">Hyperparameters:</h2></span>"
            ],
            "text/plain": [
              "<IPython.core.display.HTML object>"
            ]
          },
          "metadata": {
            "tags": []
          }
        },
        {
          "output_type": "display_data",
          "data": {
            "text/html": [
              "<span style=\"color:cyan\"> |-Conv Layers: 1</span>"
            ],
            "text/plain": [
              "<IPython.core.display.HTML object>"
            ]
          },
          "metadata": {
            "tags": []
          }
        },
        {
          "output_type": "display_data",
          "data": {
            "text/html": [
              "<span style=\"color:blue\"> |-Dense layer: 128</span>"
            ],
            "text/plain": [
              "<IPython.core.display.HTML object>"
            ]
          },
          "metadata": {
            "tags": []
          }
        },
        {
          "output_type": "display_data",
          "data": {
            "text/html": [
              "<span style=\"color:cyan\"> |-layer_0_filters: 64</span>"
            ],
            "text/plain": [
              "<IPython.core.display.HTML object>"
            ]
          },
          "metadata": {
            "tags": []
          }
        },
        {
          "output_type": "display_data",
          "data": {
            "text/html": [
              "<span style=\"color:blue\"> |-layer_1_filters: 64</span>"
            ],
            "text/plain": [
              "<IPython.core.display.HTML object>"
            ]
          },
          "metadata": {
            "tags": []
          }
        },
        {
          "output_type": "display_data",
          "data": {
            "text/html": [
              "<span style=\"color:cyan\"> |-layer_2_filters: 32</span>"
            ],
            "text/plain": [
              "<IPython.core.display.HTML object>"
            ]
          },
          "metadata": {
            "tags": []
          }
        },
        {
          "output_type": "stream",
          "text": [
            "Epoch 1/10\n",
            "760/760 [==============================] - 49s 64ms/step - loss: 1.6099 - accuracy: 0.1948 - val_loss: 1.6095 - val_accuracy: 0.2000\n",
            "Epoch 2/10\n",
            "760/760 [==============================] - 51s 67ms/step - loss: 1.6096 - accuracy: 0.1938 - val_loss: 1.6095 - val_accuracy: 0.2000\n",
            "Epoch 3/10\n",
            "760/760 [==============================] - 49s 64ms/step - loss: 1.6096 - accuracy: 0.2000 - val_loss: 1.6095 - val_accuracy: 0.2000\n",
            "Epoch 4/10\n",
            "760/760 [==============================] - 49s 64ms/step - loss: 1.6095 - accuracy: 0.1997 - val_loss: 1.6095 - val_accuracy: 0.2000\n",
            "Epoch 5/10\n",
            "760/760 [==============================] - 49s 64ms/step - loss: 1.6096 - accuracy: 0.1958 - val_loss: 1.6095 - val_accuracy: 0.2000\n",
            "Epoch 6/10\n",
            "760/760 [==============================] - 49s 64ms/step - loss: 1.6096 - accuracy: 0.1991 - val_loss: 1.6095 - val_accuracy: 0.2000\n",
            "Epoch 7/10\n",
            "760/760 [==============================] - 49s 64ms/step - loss: 1.6095 - accuracy: 0.1998 - val_loss: 1.6095 - val_accuracy: 0.2000\n",
            "Epoch 8/10\n",
            "760/760 [==============================] - 48s 64ms/step - loss: 1.6096 - accuracy: 0.1987 - val_loss: 1.6095 - val_accuracy: 0.2000\n",
            "Epoch 9/10\n",
            "760/760 [==============================] - 49s 64ms/step - loss: 1.6096 - accuracy: 0.1949 - val_loss: 1.6095 - val_accuracy: 0.2000\n",
            "Epoch 10/10\n",
            "760/760 [==============================] - 49s 64ms/step - loss: 1.6096 - accuracy: 0.1975 - val_loss: 1.6095 - val_accuracy: 0.2000\n"
          ],
          "name": "stdout"
        },
        {
          "output_type": "display_data",
          "data": {
            "text/html": [
              "<span style=\"color:#4527A0\"><h1 style=\"font-size:18px\">Trial complete</h1></span>"
            ],
            "text/plain": [
              "<IPython.core.display.HTML object>"
            ]
          },
          "metadata": {
            "tags": []
          }
        },
        {
          "output_type": "display_data",
          "data": {
            "text/html": [
              "<span style=\"color:#4527A0\"><h1 style=\"font-size:18px\">Trial summary</h1></span>"
            ],
            "text/plain": [
              "<IPython.core.display.HTML object>"
            ]
          },
          "metadata": {
            "tags": []
          }
        },
        {
          "output_type": "display_data",
          "data": {
            "text/html": [
              "<span style=\"color:cyan\"> |-Trial ID: 8b298da7dbf60873bd8238c7d38de304</span>"
            ],
            "text/plain": [
              "<IPython.core.display.HTML object>"
            ]
          },
          "metadata": {
            "tags": []
          }
        },
        {
          "output_type": "display_data",
          "data": {
            "text/html": [
              "<span style=\"color:cyan\"> |-Score: 0.20000000298023224</span>"
            ],
            "text/plain": [
              "<IPython.core.display.HTML object>"
            ]
          },
          "metadata": {
            "tags": []
          }
        },
        {
          "output_type": "display_data",
          "data": {
            "text/html": [
              "<span style=\"color:cyan\"> |-Best step: 0</span>"
            ],
            "text/plain": [
              "<IPython.core.display.HTML object>"
            ]
          },
          "metadata": {
            "tags": []
          }
        },
        {
          "output_type": "display_data",
          "data": {
            "text/html": [
              "<span style=\"color:#7E57C2\"><h2 style=\"font-size:16px\">Hyperparameters:</h2></span>"
            ],
            "text/plain": [
              "<IPython.core.display.HTML object>"
            ]
          },
          "metadata": {
            "tags": []
          }
        },
        {
          "output_type": "display_data",
          "data": {
            "text/html": [
              "<span style=\"color:cyan\"> |-Conv Layers: 3</span>"
            ],
            "text/plain": [
              "<IPython.core.display.HTML object>"
            ]
          },
          "metadata": {
            "tags": []
          }
        },
        {
          "output_type": "display_data",
          "data": {
            "text/html": [
              "<span style=\"color:blue\"> |-Dense layer: 64</span>"
            ],
            "text/plain": [
              "<IPython.core.display.HTML object>"
            ]
          },
          "metadata": {
            "tags": []
          }
        },
        {
          "output_type": "display_data",
          "data": {
            "text/html": [
              "<span style=\"color:cyan\"> |-layer_0_filters: 64</span>"
            ],
            "text/plain": [
              "<IPython.core.display.HTML object>"
            ]
          },
          "metadata": {
            "tags": []
          }
        },
        {
          "output_type": "display_data",
          "data": {
            "text/html": [
              "<span style=\"color:blue\"> |-layer_1_filters: 16</span>"
            ],
            "text/plain": [
              "<IPython.core.display.HTML object>"
            ]
          },
          "metadata": {
            "tags": []
          }
        },
        {
          "output_type": "display_data",
          "data": {
            "text/html": [
              "<span style=\"color:cyan\"> |-layer_2_filters: 16</span>"
            ],
            "text/plain": [
              "<IPython.core.display.HTML object>"
            ]
          },
          "metadata": {
            "tags": []
          }
        },
        {
          "output_type": "stream",
          "text": [
            "Epoch 1/10\n",
            "760/760 [==============================] - 14s 19ms/step - loss: 1.6304 - accuracy: 0.2183 - val_loss: 1.5891 - val_accuracy: 0.3041\n",
            "Epoch 2/10\n",
            "760/760 [==============================] - 14s 19ms/step - loss: 1.6022 - accuracy: 0.2412 - val_loss: 1.5892 - val_accuracy: 0.3291\n",
            "Epoch 3/10\n",
            "760/760 [==============================] - 15s 19ms/step - loss: 1.5994 - accuracy: 0.2367 - val_loss: 1.5868 - val_accuracy: 0.2240\n",
            "Epoch 4/10\n",
            "760/760 [==============================] - 14s 19ms/step - loss: 1.5983 - accuracy: 0.2372 - val_loss: 1.5942 - val_accuracy: 0.3108\n",
            "Epoch 5/10\n",
            "760/760 [==============================] - 14s 19ms/step - loss: 1.5953 - accuracy: 0.2460 - val_loss: 1.5842 - val_accuracy: 0.3237\n",
            "Epoch 6/10\n",
            "760/760 [==============================] - 14s 19ms/step - loss: 1.5913 - accuracy: 0.2504 - val_loss: 1.5947 - val_accuracy: 0.2700\n",
            "Epoch 7/10\n",
            "760/760 [==============================] - 14s 19ms/step - loss: 1.5916 - accuracy: 0.2473 - val_loss: 1.5904 - val_accuracy: 0.2122\n",
            "Epoch 8/10\n",
            "760/760 [==============================] - 14s 19ms/step - loss: 1.5915 - accuracy: 0.2500 - val_loss: 1.5893 - val_accuracy: 0.2006\n",
            "Epoch 9/10\n",
            "760/760 [==============================] - 14s 19ms/step - loss: 1.5875 - accuracy: 0.2570 - val_loss: 1.5852 - val_accuracy: 0.2004\n",
            "Epoch 10/10\n",
            "760/760 [==============================] - 14s 19ms/step - loss: 1.5835 - accuracy: 0.2572 - val_loss: 1.6005 - val_accuracy: 0.2042\n"
          ],
          "name": "stdout"
        },
        {
          "output_type": "display_data",
          "data": {
            "text/html": [
              "<span style=\"color:#4527A0\"><h1 style=\"font-size:18px\">Trial complete</h1></span>"
            ],
            "text/plain": [
              "<IPython.core.display.HTML object>"
            ]
          },
          "metadata": {
            "tags": []
          }
        },
        {
          "output_type": "display_data",
          "data": {
            "text/html": [
              "<span style=\"color:#4527A0\"><h1 style=\"font-size:18px\">Trial summary</h1></span>"
            ],
            "text/plain": [
              "<IPython.core.display.HTML object>"
            ]
          },
          "metadata": {
            "tags": []
          }
        },
        {
          "output_type": "display_data",
          "data": {
            "text/html": [
              "<span style=\"color:cyan\"> |-Trial ID: f2c2813617e72e672cc6bdb003bfb653</span>"
            ],
            "text/plain": [
              "<IPython.core.display.HTML object>"
            ]
          },
          "metadata": {
            "tags": []
          }
        },
        {
          "output_type": "display_data",
          "data": {
            "text/html": [
              "<span style=\"color:cyan\"> |-Score: 0.32909464836120605</span>"
            ],
            "text/plain": [
              "<IPython.core.display.HTML object>"
            ]
          },
          "metadata": {
            "tags": []
          }
        },
        {
          "output_type": "display_data",
          "data": {
            "text/html": [
              "<span style=\"color:cyan\"> |-Best step: 0</span>"
            ],
            "text/plain": [
              "<IPython.core.display.HTML object>"
            ]
          },
          "metadata": {
            "tags": []
          }
        },
        {
          "output_type": "display_data",
          "data": {
            "text/html": [
              "<span style=\"color:#7E57C2\"><h2 style=\"font-size:16px\">Hyperparameters:</h2></span>"
            ],
            "text/plain": [
              "<IPython.core.display.HTML object>"
            ]
          },
          "metadata": {
            "tags": []
          }
        },
        {
          "output_type": "display_data",
          "data": {
            "text/html": [
              "<span style=\"color:cyan\"> |-Conv Layers: 0</span>"
            ],
            "text/plain": [
              "<IPython.core.display.HTML object>"
            ]
          },
          "metadata": {
            "tags": []
          }
        },
        {
          "output_type": "display_data",
          "data": {
            "text/html": [
              "<span style=\"color:blue\"> |-Dense layer: 256</span>"
            ],
            "text/plain": [
              "<IPython.core.display.HTML object>"
            ]
          },
          "metadata": {
            "tags": []
          }
        },
        {
          "output_type": "display_data",
          "data": {
            "text/html": [
              "<span style=\"color:cyan\"> |-layer_0_filters: 64</span>"
            ],
            "text/plain": [
              "<IPython.core.display.HTML object>"
            ]
          },
          "metadata": {
            "tags": []
          }
        },
        {
          "output_type": "display_data",
          "data": {
            "text/html": [
              "<span style=\"color:blue\"> |-layer_1_filters: 64</span>"
            ],
            "text/plain": [
              "<IPython.core.display.HTML object>"
            ]
          },
          "metadata": {
            "tags": []
          }
        },
        {
          "output_type": "display_data",
          "data": {
            "text/html": [
              "<span style=\"color:cyan\"> |-layer_2_filters: 16</span>"
            ],
            "text/plain": [
              "<IPython.core.display.HTML object>"
            ]
          },
          "metadata": {
            "tags": []
          }
        },
        {
          "output_type": "stream",
          "text": [
            "Epoch 1/10\n",
            "760/760 [==============================] - 30s 39ms/step - loss: 0.6391 - accuracy: 0.7463 - val_loss: 0.5641 - val_accuracy: 0.7722\n",
            "Epoch 2/10\n",
            "760/760 [==============================] - 31s 41ms/step - loss: 0.2377 - accuracy: 0.9129 - val_loss: 0.4583 - val_accuracy: 0.8530\n",
            "Epoch 3/10\n",
            "760/760 [==============================] - 30s 39ms/step - loss: 0.1433 - accuracy: 0.9479 - val_loss: 0.4647 - val_accuracy: 0.8622\n",
            "Epoch 4/10\n",
            "760/760 [==============================] - 30s 39ms/step - loss: 0.1046 - accuracy: 0.9628 - val_loss: 0.5206 - val_accuracy: 0.8733\n",
            "Epoch 5/10\n",
            "760/760 [==============================] - 30s 39ms/step - loss: 0.0787 - accuracy: 0.9723 - val_loss: 0.7539 - val_accuracy: 0.8240\n",
            "Epoch 6/10\n",
            "760/760 [==============================] - 30s 39ms/step - loss: 0.0620 - accuracy: 0.9784 - val_loss: 0.6027 - val_accuracy: 0.8679\n",
            "Epoch 7/10\n",
            "760/760 [==============================] - 30s 40ms/step - loss: 0.0515 - accuracy: 0.9825 - val_loss: 0.5956 - val_accuracy: 0.8758\n",
            "Epoch 8/10\n",
            "760/760 [==============================] - 30s 39ms/step - loss: 0.0439 - accuracy: 0.9848 - val_loss: 0.6588 - val_accuracy: 0.8757\n",
            "Epoch 9/10\n",
            "760/760 [==============================] - 30s 39ms/step - loss: 0.0338 - accuracy: 0.9886 - val_loss: 1.0256 - val_accuracy: 0.8151\n",
            "Epoch 10/10\n",
            "760/760 [==============================] - 30s 39ms/step - loss: 0.0352 - accuracy: 0.9875 - val_loss: 0.7752 - val_accuracy: 0.8649\n"
          ],
          "name": "stdout"
        },
        {
          "output_type": "display_data",
          "data": {
            "text/html": [
              "<span style=\"color:#4527A0\"><h1 style=\"font-size:18px\">Trial complete</h1></span>"
            ],
            "text/plain": [
              "<IPython.core.display.HTML object>"
            ]
          },
          "metadata": {
            "tags": []
          }
        },
        {
          "output_type": "display_data",
          "data": {
            "text/html": [
              "<span style=\"color:#4527A0\"><h1 style=\"font-size:18px\">Trial summary</h1></span>"
            ],
            "text/plain": [
              "<IPython.core.display.HTML object>"
            ]
          },
          "metadata": {
            "tags": []
          }
        },
        {
          "output_type": "display_data",
          "data": {
            "text/html": [
              "<span style=\"color:cyan\"> |-Trial ID: 55fef515d3cf513cd59c4ded017b454b</span>"
            ],
            "text/plain": [
              "<IPython.core.display.HTML object>"
            ]
          },
          "metadata": {
            "tags": []
          }
        },
        {
          "output_type": "display_data",
          "data": {
            "text/html": [
              "<span style=\"color:cyan\"> |-Score: 0.8758436441421509</span>"
            ],
            "text/plain": [
              "<IPython.core.display.HTML object>"
            ]
          },
          "metadata": {
            "tags": []
          }
        },
        {
          "output_type": "display_data",
          "data": {
            "text/html": [
              "<span style=\"color:cyan\"> |-Best step: 0</span>"
            ],
            "text/plain": [
              "<IPython.core.display.HTML object>"
            ]
          },
          "metadata": {
            "tags": []
          }
        },
        {
          "output_type": "display_data",
          "data": {
            "text/html": [
              "<span style=\"color:#7E57C2\"><h2 style=\"font-size:16px\">Hyperparameters:</h2></span>"
            ],
            "text/plain": [
              "<IPython.core.display.HTML object>"
            ]
          },
          "metadata": {
            "tags": []
          }
        },
        {
          "output_type": "display_data",
          "data": {
            "text/html": [
              "<span style=\"color:cyan\"> |-Conv Layers: 2</span>"
            ],
            "text/plain": [
              "<IPython.core.display.HTML object>"
            ]
          },
          "metadata": {
            "tags": []
          }
        },
        {
          "output_type": "display_data",
          "data": {
            "text/html": [
              "<span style=\"color:blue\"> |-Dense layer: 128</span>"
            ],
            "text/plain": [
              "<IPython.core.display.HTML object>"
            ]
          },
          "metadata": {
            "tags": []
          }
        },
        {
          "output_type": "display_data",
          "data": {
            "text/html": [
              "<span style=\"color:cyan\"> |-layer_0_filters: 16</span>"
            ],
            "text/plain": [
              "<IPython.core.display.HTML object>"
            ]
          },
          "metadata": {
            "tags": []
          }
        },
        {
          "output_type": "display_data",
          "data": {
            "text/html": [
              "<span style=\"color:blue\"> |-layer_1_filters: 32</span>"
            ],
            "text/plain": [
              "<IPython.core.display.HTML object>"
            ]
          },
          "metadata": {
            "tags": []
          }
        },
        {
          "output_type": "display_data",
          "data": {
            "text/html": [
              "<span style=\"color:cyan\"> |-layer_2_filters: 16</span>"
            ],
            "text/plain": [
              "<IPython.core.display.HTML object>"
            ]
          },
          "metadata": {
            "tags": []
          }
        },
        {
          "output_type": "stream",
          "text": [
            "Epoch 1/10\n",
            "760/760 [==============================] - 28s 37ms/step - loss: 0.8814 - accuracy: 0.6345 - val_loss: 0.5220 - val_accuracy: 0.8133\n",
            "Epoch 2/10\n",
            "760/760 [==============================] - 27s 36ms/step - loss: 0.3570 - accuracy: 0.8666 - val_loss: 0.4435 - val_accuracy: 0.8360\n",
            "Epoch 3/10\n",
            "760/760 [==============================] - 27s 36ms/step - loss: 0.2270 - accuracy: 0.9173 - val_loss: 0.4753 - val_accuracy: 0.8513\n",
            "Epoch 4/10\n",
            "760/760 [==============================] - 27s 36ms/step - loss: 0.1609 - accuracy: 0.9415 - val_loss: 0.4657 - val_accuracy: 0.8626\n",
            "Epoch 5/10\n",
            "760/760 [==============================] - 27s 36ms/step - loss: 0.1224 - accuracy: 0.9566 - val_loss: 0.4390 - val_accuracy: 0.8649\n",
            "Epoch 6/10\n",
            "760/760 [==============================] - 28s 37ms/step - loss: 0.1018 - accuracy: 0.9635 - val_loss: 0.5086 - val_accuracy: 0.8551\n",
            "Epoch 7/10\n",
            "760/760 [==============================] - 27s 36ms/step - loss: 0.0887 - accuracy: 0.9681 - val_loss: 0.5399 - val_accuracy: 0.8732\n",
            "Epoch 8/10\n",
            "760/760 [==============================] - 28s 37ms/step - loss: 0.0769 - accuracy: 0.9736 - val_loss: 0.6427 - val_accuracy: 0.8535\n",
            "Epoch 9/10\n",
            "760/760 [==============================] - 28s 36ms/step - loss: 0.0662 - accuracy: 0.9770 - val_loss: 0.6472 - val_accuracy: 0.8480\n",
            "Epoch 10/10\n",
            "760/760 [==============================] - 27s 36ms/step - loss: 0.0594 - accuracy: 0.9787 - val_loss: 0.6088 - val_accuracy: 0.8670\n"
          ],
          "name": "stdout"
        },
        {
          "output_type": "display_data",
          "data": {
            "text/html": [
              "<span style=\"color:#4527A0\"><h1 style=\"font-size:18px\">Trial complete</h1></span>"
            ],
            "text/plain": [
              "<IPython.core.display.HTML object>"
            ]
          },
          "metadata": {
            "tags": []
          }
        },
        {
          "output_type": "display_data",
          "data": {
            "text/html": [
              "<span style=\"color:#4527A0\"><h1 style=\"font-size:18px\">Trial summary</h1></span>"
            ],
            "text/plain": [
              "<IPython.core.display.HTML object>"
            ]
          },
          "metadata": {
            "tags": []
          }
        },
        {
          "output_type": "display_data",
          "data": {
            "text/html": [
              "<span style=\"color:cyan\"> |-Trial ID: d4bbcdb4ce3b9aa38a8d9c1028c4e96e</span>"
            ],
            "text/plain": [
              "<IPython.core.display.HTML object>"
            ]
          },
          "metadata": {
            "tags": []
          }
        },
        {
          "output_type": "display_data",
          "data": {
            "text/html": [
              "<span style=\"color:cyan\"> |-Score: 0.8732098937034607</span>"
            ],
            "text/plain": [
              "<IPython.core.display.HTML object>"
            ]
          },
          "metadata": {
            "tags": []
          }
        },
        {
          "output_type": "display_data",
          "data": {
            "text/html": [
              "<span style=\"color:cyan\"> |-Best step: 0</span>"
            ],
            "text/plain": [
              "<IPython.core.display.HTML object>"
            ]
          },
          "metadata": {
            "tags": []
          }
        },
        {
          "output_type": "display_data",
          "data": {
            "text/html": [
              "<span style=\"color:#7E57C2\"><h2 style=\"font-size:16px\">Hyperparameters:</h2></span>"
            ],
            "text/plain": [
              "<IPython.core.display.HTML object>"
            ]
          },
          "metadata": {
            "tags": []
          }
        },
        {
          "output_type": "display_data",
          "data": {
            "text/html": [
              "<span style=\"color:cyan\"> |-Conv Layers: 2</span>"
            ],
            "text/plain": [
              "<IPython.core.display.HTML object>"
            ]
          },
          "metadata": {
            "tags": []
          }
        },
        {
          "output_type": "display_data",
          "data": {
            "text/html": [
              "<span style=\"color:blue\"> |-Dense layer: 256</span>"
            ],
            "text/plain": [
              "<IPython.core.display.HTML object>"
            ]
          },
          "metadata": {
            "tags": []
          }
        },
        {
          "output_type": "display_data",
          "data": {
            "text/html": [
              "<span style=\"color:cyan\"> |-layer_0_filters: 16</span>"
            ],
            "text/plain": [
              "<IPython.core.display.HTML object>"
            ]
          },
          "metadata": {
            "tags": []
          }
        },
        {
          "output_type": "display_data",
          "data": {
            "text/html": [
              "<span style=\"color:blue\"> |-layer_1_filters: 16</span>"
            ],
            "text/plain": [
              "<IPython.core.display.HTML object>"
            ]
          },
          "metadata": {
            "tags": []
          }
        },
        {
          "output_type": "display_data",
          "data": {
            "text/html": [
              "<span style=\"color:cyan\"> |-layer_2_filters: 16</span>"
            ],
            "text/plain": [
              "<IPython.core.display.HTML object>"
            ]
          },
          "metadata": {
            "tags": []
          }
        },
        {
          "output_type": "stream",
          "text": [
            "Epoch 1/10\n",
            "760/760 [==============================] - 51s 68ms/step - loss: 0.7096 - accuracy: 0.7135 - val_loss: 0.4790 - val_accuracy: 0.8040\n",
            "Epoch 2/10\n",
            "760/760 [==============================] - 53s 70ms/step - loss: 0.2505 - accuracy: 0.9075 - val_loss: 0.4377 - val_accuracy: 0.8458\n",
            "Epoch 3/10\n",
            "760/760 [==============================] - 51s 68ms/step - loss: 0.1450 - accuracy: 0.9480 - val_loss: 0.5610 - val_accuracy: 0.8226\n",
            "Epoch 4/10\n",
            "760/760 [==============================] - 52s 69ms/step - loss: 0.0949 - accuracy: 0.9666 - val_loss: 0.5425 - val_accuracy: 0.8559\n",
            "Epoch 5/10\n",
            "760/760 [==============================] - 53s 69ms/step - loss: 0.0683 - accuracy: 0.9762 - val_loss: 0.5910 - val_accuracy: 0.8577\n",
            "Epoch 6/10\n",
            "760/760 [==============================] - 52s 68ms/step - loss: 0.0580 - accuracy: 0.9803 - val_loss: 0.5812 - val_accuracy: 0.8615\n",
            "Epoch 7/10\n",
            "760/760 [==============================] - 52s 68ms/step - loss: 0.0476 - accuracy: 0.9836 - val_loss: 0.6401 - val_accuracy: 0.8448\n",
            "Epoch 8/10\n",
            "760/760 [==============================] - 52s 68ms/step - loss: 0.0420 - accuracy: 0.9861 - val_loss: 0.5528 - val_accuracy: 0.8759\n",
            "Epoch 9/10\n",
            "760/760 [==============================] - 52s 68ms/step - loss: 0.0348 - accuracy: 0.9883 - val_loss: 0.6219 - val_accuracy: 0.8668\n",
            "Epoch 10/10\n",
            "760/760 [==============================] - 52s 69ms/step - loss: 0.0314 - accuracy: 0.9889 - val_loss: 0.6147 - val_accuracy: 0.8742\n"
          ],
          "name": "stdout"
        },
        {
          "output_type": "display_data",
          "data": {
            "text/html": [
              "<span style=\"color:#4527A0\"><h1 style=\"font-size:18px\">Trial complete</h1></span>"
            ],
            "text/plain": [
              "<IPython.core.display.HTML object>"
            ]
          },
          "metadata": {
            "tags": []
          }
        },
        {
          "output_type": "display_data",
          "data": {
            "text/html": [
              "<span style=\"color:#4527A0\"><h1 style=\"font-size:18px\">Trial summary</h1></span>"
            ],
            "text/plain": [
              "<IPython.core.display.HTML object>"
            ]
          },
          "metadata": {
            "tags": []
          }
        },
        {
          "output_type": "display_data",
          "data": {
            "text/html": [
              "<span style=\"color:cyan\"> |-Trial ID: 6488ef6e0a04d5ed4570a3c88969d03f</span>"
            ],
            "text/plain": [
              "<IPython.core.display.HTML object>"
            ]
          },
          "metadata": {
            "tags": []
          }
        },
        {
          "output_type": "display_data",
          "data": {
            "text/html": [
              "<span style=\"color:cyan\"> |-Score: 0.8759258985519409</span>"
            ],
            "text/plain": [
              "<IPython.core.display.HTML object>"
            ]
          },
          "metadata": {
            "tags": []
          }
        },
        {
          "output_type": "display_data",
          "data": {
            "text/html": [
              "<span style=\"color:cyan\"> |-Best step: 0</span>"
            ],
            "text/plain": [
              "<IPython.core.display.HTML object>"
            ]
          },
          "metadata": {
            "tags": []
          }
        },
        {
          "output_type": "display_data",
          "data": {
            "text/html": [
              "<span style=\"color:#7E57C2\"><h2 style=\"font-size:16px\">Hyperparameters:</h2></span>"
            ],
            "text/plain": [
              "<IPython.core.display.HTML object>"
            ]
          },
          "metadata": {
            "tags": []
          }
        },
        {
          "output_type": "display_data",
          "data": {
            "text/html": [
              "<span style=\"color:cyan\"> |-Conv Layers: 2</span>"
            ],
            "text/plain": [
              "<IPython.core.display.HTML object>"
            ]
          },
          "metadata": {
            "tags": []
          }
        },
        {
          "output_type": "display_data",
          "data": {
            "text/html": [
              "<span style=\"color:blue\"> |-Dense layer: 256</span>"
            ],
            "text/plain": [
              "<IPython.core.display.HTML object>"
            ]
          },
          "metadata": {
            "tags": []
          }
        },
        {
          "output_type": "display_data",
          "data": {
            "text/html": [
              "<span style=\"color:cyan\"> |-layer_0_filters: 32</span>"
            ],
            "text/plain": [
              "<IPython.core.display.HTML object>"
            ]
          },
          "metadata": {
            "tags": []
          }
        },
        {
          "output_type": "display_data",
          "data": {
            "text/html": [
              "<span style=\"color:blue\"> |-layer_1_filters: 64</span>"
            ],
            "text/plain": [
              "<IPython.core.display.HTML object>"
            ]
          },
          "metadata": {
            "tags": []
          }
        },
        {
          "output_type": "display_data",
          "data": {
            "text/html": [
              "<span style=\"color:cyan\"> |-layer_2_filters: 64</span>"
            ],
            "text/plain": [
              "<IPython.core.display.HTML object>"
            ]
          },
          "metadata": {
            "tags": []
          }
        },
        {
          "output_type": "stream",
          "text": [
            "Epoch 1/10\n",
            "760/760 [==============================] - 33s 43ms/step - loss: 0.7299 - accuracy: 0.7213 - val_loss: 0.5129 - val_accuracy: 0.8100\n",
            "Epoch 2/10\n",
            "760/760 [==============================] - 33s 43ms/step - loss: 0.3019 - accuracy: 0.8928 - val_loss: 0.4445 - val_accuracy: 0.8477\n",
            "Epoch 3/10\n",
            "760/760 [==============================] - 32s 43ms/step - loss: 0.1932 - accuracy: 0.9322 - val_loss: 0.3886 - val_accuracy: 0.8803\n",
            "Epoch 4/10\n",
            "760/760 [==============================] - 32s 43ms/step - loss: 0.1418 - accuracy: 0.9507 - val_loss: 0.4013 - val_accuracy: 0.8734\n",
            "Epoch 5/10\n",
            "760/760 [==============================] - 33s 43ms/step - loss: 0.1078 - accuracy: 0.9622 - val_loss: 0.3992 - val_accuracy: 0.8843\n",
            "Epoch 6/10\n",
            "760/760 [==============================] - 34s 45ms/step - loss: 0.0881 - accuracy: 0.9703 - val_loss: 0.4491 - val_accuracy: 0.8703\n",
            "Epoch 7/10\n",
            "760/760 [==============================] - 33s 43ms/step - loss: 0.0743 - accuracy: 0.9751 - val_loss: 0.5305 - val_accuracy: 0.8445\n",
            "Epoch 8/10\n",
            "760/760 [==============================] - 33s 43ms/step - loss: 0.0619 - accuracy: 0.9791 - val_loss: 0.4871 - val_accuracy: 0.8710\n",
            "Epoch 9/10\n",
            "760/760 [==============================] - 33s 43ms/step - loss: 0.0522 - accuracy: 0.9820 - val_loss: 0.5154 - val_accuracy: 0.8657\n",
            "Epoch 10/10\n",
            "760/760 [==============================] - 33s 43ms/step - loss: 0.0454 - accuracy: 0.9847 - val_loss: 0.5177 - val_accuracy: 0.8774\n"
          ],
          "name": "stdout"
        },
        {
          "output_type": "display_data",
          "data": {
            "text/html": [
              "<span style=\"color:#4527A0\"><h1 style=\"font-size:18px\">Trial complete</h1></span>"
            ],
            "text/plain": [
              "<IPython.core.display.HTML object>"
            ]
          },
          "metadata": {
            "tags": []
          }
        },
        {
          "output_type": "display_data",
          "data": {
            "text/html": [
              "<span style=\"color:#4527A0\"><h1 style=\"font-size:18px\">Trial summary</h1></span>"
            ],
            "text/plain": [
              "<IPython.core.display.HTML object>"
            ]
          },
          "metadata": {
            "tags": []
          }
        },
        {
          "output_type": "display_data",
          "data": {
            "text/html": [
              "<span style=\"color:cyan\"> |-Trial ID: c7a07c1b9e524d5ea147c97ee9f09049</span>"
            ],
            "text/plain": [
              "<IPython.core.display.HTML object>"
            ]
          },
          "metadata": {
            "tags": []
          }
        },
        {
          "output_type": "display_data",
          "data": {
            "text/html": [
              "<span style=\"color:cyan\"> |-Score: 0.8843209743499756</span>"
            ],
            "text/plain": [
              "<IPython.core.display.HTML object>"
            ]
          },
          "metadata": {
            "tags": []
          }
        },
        {
          "output_type": "display_data",
          "data": {
            "text/html": [
              "<span style=\"color:cyan\"> |-Best step: 0</span>"
            ],
            "text/plain": [
              "<IPython.core.display.HTML object>"
            ]
          },
          "metadata": {
            "tags": []
          }
        },
        {
          "output_type": "display_data",
          "data": {
            "text/html": [
              "<span style=\"color:#7E57C2\"><h2 style=\"font-size:16px\">Hyperparameters:</h2></span>"
            ],
            "text/plain": [
              "<IPython.core.display.HTML object>"
            ]
          },
          "metadata": {
            "tags": []
          }
        },
        {
          "output_type": "display_data",
          "data": {
            "text/html": [
              "<span style=\"color:cyan\"> |-Conv Layers: 1</span>"
            ],
            "text/plain": [
              "<IPython.core.display.HTML object>"
            ]
          },
          "metadata": {
            "tags": []
          }
        },
        {
          "output_type": "display_data",
          "data": {
            "text/html": [
              "<span style=\"color:blue\"> |-Dense layer: 256</span>"
            ],
            "text/plain": [
              "<IPython.core.display.HTML object>"
            ]
          },
          "metadata": {
            "tags": []
          }
        },
        {
          "output_type": "display_data",
          "data": {
            "text/html": [
              "<span style=\"color:cyan\"> |-layer_0_filters: 64</span>"
            ],
            "text/plain": [
              "<IPython.core.display.HTML object>"
            ]
          },
          "metadata": {
            "tags": []
          }
        },
        {
          "output_type": "display_data",
          "data": {
            "text/html": [
              "<span style=\"color:blue\"> |-layer_1_filters: 32</span>"
            ],
            "text/plain": [
              "<IPython.core.display.HTML object>"
            ]
          },
          "metadata": {
            "tags": []
          }
        },
        {
          "output_type": "display_data",
          "data": {
            "text/html": [
              "<span style=\"color:cyan\"> |-layer_2_filters: 32</span>"
            ],
            "text/plain": [
              "<IPython.core.display.HTML object>"
            ]
          },
          "metadata": {
            "tags": []
          }
        },
        {
          "output_type": "stream",
          "text": [
            "Epoch 1/10\n",
            "760/760 [==============================] - 36s 47ms/step - loss: 0.7620 - accuracy: 0.6870 - val_loss: 0.4953 - val_accuracy: 0.8047\n",
            "Epoch 2/10\n",
            "760/760 [==============================] - 35s 47ms/step - loss: 0.3003 - accuracy: 0.8870 - val_loss: 0.5501 - val_accuracy: 0.8089\n",
            "Epoch 3/10\n",
            "760/760 [==============================] - 35s 47ms/step - loss: 0.2118 - accuracy: 0.9219 - val_loss: 0.4740 - val_accuracy: 0.8563\n",
            "Epoch 4/10\n",
            "760/760 [==============================] - 35s 47ms/step - loss: 0.1630 - accuracy: 0.9402 - val_loss: 0.5187 - val_accuracy: 0.8424\n",
            "Epoch 5/10\n",
            "760/760 [==============================] - 35s 46ms/step - loss: 0.1343 - accuracy: 0.9496 - val_loss: 0.5697 - val_accuracy: 0.8497\n",
            "Epoch 6/10\n",
            "760/760 [==============================] - 35s 47ms/step - loss: 0.1100 - accuracy: 0.9592 - val_loss: 0.6065 - val_accuracy: 0.8413\n",
            "Epoch 7/10\n",
            "760/760 [==============================] - 36s 47ms/step - loss: 0.0980 - accuracy: 0.9647 - val_loss: 0.6190 - val_accuracy: 0.8398\n",
            "Epoch 8/10\n",
            "760/760 [==============================] - 36s 47ms/step - loss: 0.0868 - accuracy: 0.9698 - val_loss: 0.6384 - val_accuracy: 0.8465\n",
            "Epoch 9/10\n",
            "760/760 [==============================] - 35s 47ms/step - loss: 0.0811 - accuracy: 0.9710 - val_loss: 0.7239 - val_accuracy: 0.8237\n",
            "Epoch 10/10\n",
            "760/760 [==============================] - 36s 47ms/step - loss: 0.0763 - accuracy: 0.9727 - val_loss: 0.8441 - val_accuracy: 0.8300\n"
          ],
          "name": "stdout"
        },
        {
          "output_type": "display_data",
          "data": {
            "text/html": [
              "<span style=\"color:#4527A0\"><h1 style=\"font-size:18px\">Trial complete</h1></span>"
            ],
            "text/plain": [
              "<IPython.core.display.HTML object>"
            ]
          },
          "metadata": {
            "tags": []
          }
        },
        {
          "output_type": "display_data",
          "data": {
            "text/html": [
              "<span style=\"color:#4527A0\"><h1 style=\"font-size:18px\">Trial summary</h1></span>"
            ],
            "text/plain": [
              "<IPython.core.display.HTML object>"
            ]
          },
          "metadata": {
            "tags": []
          }
        },
        {
          "output_type": "display_data",
          "data": {
            "text/html": [
              "<span style=\"color:cyan\"> |-Trial ID: 2c1ea8748b9a84224c45735b8ddf8849</span>"
            ],
            "text/plain": [
              "<IPython.core.display.HTML object>"
            ]
          },
          "metadata": {
            "tags": []
          }
        },
        {
          "output_type": "display_data",
          "data": {
            "text/html": [
              "<span style=\"color:cyan\"> |-Score: 0.8562551736831665</span>"
            ],
            "text/plain": [
              "<IPython.core.display.HTML object>"
            ]
          },
          "metadata": {
            "tags": []
          }
        },
        {
          "output_type": "display_data",
          "data": {
            "text/html": [
              "<span style=\"color:cyan\"> |-Best step: 0</span>"
            ],
            "text/plain": [
              "<IPython.core.display.HTML object>"
            ]
          },
          "metadata": {
            "tags": []
          }
        },
        {
          "output_type": "display_data",
          "data": {
            "text/html": [
              "<span style=\"color:#7E57C2\"><h2 style=\"font-size:16px\">Hyperparameters:</h2></span>"
            ],
            "text/plain": [
              "<IPython.core.display.HTML object>"
            ]
          },
          "metadata": {
            "tags": []
          }
        },
        {
          "output_type": "display_data",
          "data": {
            "text/html": [
              "<span style=\"color:cyan\"> |-Conv Layers: 3</span>"
            ],
            "text/plain": [
              "<IPython.core.display.HTML object>"
            ]
          },
          "metadata": {
            "tags": []
          }
        },
        {
          "output_type": "display_data",
          "data": {
            "text/html": [
              "<span style=\"color:blue\"> |-Dense layer: 64</span>"
            ],
            "text/plain": [
              "<IPython.core.display.HTML object>"
            ]
          },
          "metadata": {
            "tags": []
          }
        },
        {
          "output_type": "display_data",
          "data": {
            "text/html": [
              "<span style=\"color:cyan\"> |-layer_0_filters: 32</span>"
            ],
            "text/plain": [
              "<IPython.core.display.HTML object>"
            ]
          },
          "metadata": {
            "tags": []
          }
        },
        {
          "output_type": "display_data",
          "data": {
            "text/html": [
              "<span style=\"color:blue\"> |-layer_1_filters: 16</span>"
            ],
            "text/plain": [
              "<IPython.core.display.HTML object>"
            ]
          },
          "metadata": {
            "tags": []
          }
        },
        {
          "output_type": "display_data",
          "data": {
            "text/html": [
              "<span style=\"color:cyan\"> |-layer_2_filters: 16</span>"
            ],
            "text/plain": [
              "<IPython.core.display.HTML object>"
            ]
          },
          "metadata": {
            "tags": []
          }
        },
        {
          "output_type": "stream",
          "text": [
            "Epoch 1/10\n",
            "760/760 [==============================] - 33s 43ms/step - loss: 0.7164 - accuracy: 0.7292 - val_loss: 0.5620 - val_accuracy: 0.7792\n",
            "Epoch 2/10\n",
            "760/760 [==============================] - 33s 43ms/step - loss: 0.3093 - accuracy: 0.8888 - val_loss: 0.4665 - val_accuracy: 0.8374\n",
            "Epoch 3/10\n",
            "760/760 [==============================] - 32s 43ms/step - loss: 0.1919 - accuracy: 0.9313 - val_loss: 0.3840 - val_accuracy: 0.8679\n",
            "Epoch 4/10\n",
            "760/760 [==============================] - 34s 45ms/step - loss: 0.1388 - accuracy: 0.9513 - val_loss: 0.4183 - val_accuracy: 0.8774\n",
            "Epoch 5/10\n",
            "760/760 [==============================] - 32s 43ms/step - loss: 0.1055 - accuracy: 0.9638 - val_loss: 0.4058 - val_accuracy: 0.8821\n",
            "Epoch 6/10\n",
            "760/760 [==============================] - 32s 43ms/step - loss: 0.0848 - accuracy: 0.9709 - val_loss: 0.4276 - val_accuracy: 0.8843\n",
            "Epoch 7/10\n",
            "760/760 [==============================] - 33s 43ms/step - loss: 0.0697 - accuracy: 0.9756 - val_loss: 0.5885 - val_accuracy: 0.8503\n",
            "Epoch 8/10\n",
            "760/760 [==============================] - 32s 42ms/step - loss: 0.0573 - accuracy: 0.9826 - val_loss: 0.5163 - val_accuracy: 0.8700\n",
            "Epoch 9/10\n",
            "760/760 [==============================] - 33s 43ms/step - loss: 0.0505 - accuracy: 0.9834 - val_loss: 0.4557 - val_accuracy: 0.8822\n",
            "Epoch 10/10\n",
            "760/760 [==============================] - 32s 43ms/step - loss: 0.0436 - accuracy: 0.9851 - val_loss: 0.6514 - val_accuracy: 0.8603\n"
          ],
          "name": "stdout"
        },
        {
          "output_type": "display_data",
          "data": {
            "text/html": [
              "<span style=\"color:#4527A0\"><h1 style=\"font-size:18px\">Trial complete</h1></span>"
            ],
            "text/plain": [
              "<IPython.core.display.HTML object>"
            ]
          },
          "metadata": {
            "tags": []
          }
        },
        {
          "output_type": "display_data",
          "data": {
            "text/html": [
              "<span style=\"color:#4527A0\"><h1 style=\"font-size:18px\">Trial summary</h1></span>"
            ],
            "text/plain": [
              "<IPython.core.display.HTML object>"
            ]
          },
          "metadata": {
            "tags": []
          }
        },
        {
          "output_type": "display_data",
          "data": {
            "text/html": [
              "<span style=\"color:cyan\"> |-Trial ID: 5a07ffe02f7e10d671f3d9a22b0bd97d</span>"
            ],
            "text/plain": [
              "<IPython.core.display.HTML object>"
            ]
          },
          "metadata": {
            "tags": []
          }
        },
        {
          "output_type": "display_data",
          "data": {
            "text/html": [
              "<span style=\"color:cyan\"> |-Score: 0.8842798471450806</span>"
            ],
            "text/plain": [
              "<IPython.core.display.HTML object>"
            ]
          },
          "metadata": {
            "tags": []
          }
        },
        {
          "output_type": "display_data",
          "data": {
            "text/html": [
              "<span style=\"color:cyan\"> |-Best step: 0</span>"
            ],
            "text/plain": [
              "<IPython.core.display.HTML object>"
            ]
          },
          "metadata": {
            "tags": []
          }
        },
        {
          "output_type": "display_data",
          "data": {
            "text/html": [
              "<span style=\"color:#7E57C2\"><h2 style=\"font-size:16px\">Hyperparameters:</h2></span>"
            ],
            "text/plain": [
              "<IPython.core.display.HTML object>"
            ]
          },
          "metadata": {
            "tags": []
          }
        },
        {
          "output_type": "display_data",
          "data": {
            "text/html": [
              "<span style=\"color:cyan\"> |-Conv Layers: 1</span>"
            ],
            "text/plain": [
              "<IPython.core.display.HTML object>"
            ]
          },
          "metadata": {
            "tags": []
          }
        },
        {
          "output_type": "display_data",
          "data": {
            "text/html": [
              "<span style=\"color:blue\"> |-Dense layer: 256</span>"
            ],
            "text/plain": [
              "<IPython.core.display.HTML object>"
            ]
          },
          "metadata": {
            "tags": []
          }
        },
        {
          "output_type": "display_data",
          "data": {
            "text/html": [
              "<span style=\"color:cyan\"> |-layer_0_filters: 64</span>"
            ],
            "text/plain": [
              "<IPython.core.display.HTML object>"
            ]
          },
          "metadata": {
            "tags": []
          }
        },
        {
          "output_type": "display_data",
          "data": {
            "text/html": [
              "<span style=\"color:blue\"> |-layer_1_filters: 64</span>"
            ],
            "text/plain": [
              "<IPython.core.display.HTML object>"
            ]
          },
          "metadata": {
            "tags": []
          }
        },
        {
          "output_type": "display_data",
          "data": {
            "text/html": [
              "<span style=\"color:cyan\"> |-layer_2_filters: 64</span>"
            ],
            "text/plain": [
              "<IPython.core.display.HTML object>"
            ]
          },
          "metadata": {
            "tags": []
          }
        },
        {
          "output_type": "stream",
          "text": [
            "Epoch 1/10\n",
            "760/760 [==============================] - 56s 73ms/step - loss: 1.1301 - accuracy: 0.5094 - val_loss: 0.9172 - val_accuracy: 0.6177\n",
            "Epoch 2/10\n",
            "760/760 [==============================] - 56s 73ms/step - loss: 0.8423 - accuracy: 0.6547 - val_loss: 0.6961 - val_accuracy: 0.7143\n",
            "Epoch 3/10\n",
            "760/760 [==============================] - 56s 73ms/step - loss: 0.5673 - accuracy: 0.7748 - val_loss: 0.6104 - val_accuracy: 0.7578\n",
            "Epoch 4/10\n",
            "760/760 [==============================] - 56s 74ms/step - loss: 0.4256 - accuracy: 0.8344 - val_loss: 0.7016 - val_accuracy: 0.7429\n",
            "Epoch 5/10\n",
            "760/760 [==============================] - 56s 74ms/step - loss: 0.3533 - accuracy: 0.8649 - val_loss: 0.5884 - val_accuracy: 0.7827\n",
            "Epoch 6/10\n",
            "760/760 [==============================] - 56s 74ms/step - loss: 0.3042 - accuracy: 0.8851 - val_loss: 0.5884 - val_accuracy: 0.7860\n",
            "Epoch 7/10\n",
            "760/760 [==============================] - 57s 75ms/step - loss: 0.2771 - accuracy: 0.8934 - val_loss: 0.5658 - val_accuracy: 0.8067\n",
            "Epoch 8/10\n",
            "760/760 [==============================] - 56s 73ms/step - loss: 0.2587 - accuracy: 0.9026 - val_loss: 0.6811 - val_accuracy: 0.7816\n",
            "Epoch 9/10\n",
            "760/760 [==============================] - 56s 73ms/step - loss: 0.2370 - accuracy: 0.9114 - val_loss: 0.5557 - val_accuracy: 0.8161\n",
            "Epoch 10/10\n",
            "760/760 [==============================] - 56s 73ms/step - loss: 0.2170 - accuracy: 0.9199 - val_loss: 0.5702 - val_accuracy: 0.8033\n"
          ],
          "name": "stdout"
        },
        {
          "output_type": "display_data",
          "data": {
            "text/html": [
              "<span style=\"color:#4527A0\"><h1 style=\"font-size:18px\">Trial complete</h1></span>"
            ],
            "text/plain": [
              "<IPython.core.display.HTML object>"
            ]
          },
          "metadata": {
            "tags": []
          }
        },
        {
          "output_type": "display_data",
          "data": {
            "text/html": [
              "<span style=\"color:#4527A0\"><h1 style=\"font-size:18px\">Trial summary</h1></span>"
            ],
            "text/plain": [
              "<IPython.core.display.HTML object>"
            ]
          },
          "metadata": {
            "tags": []
          }
        },
        {
          "output_type": "display_data",
          "data": {
            "text/html": [
              "<span style=\"color:cyan\"> |-Trial ID: 1cf1a02f8558d6dab139ac2251c5e9b0</span>"
            ],
            "text/plain": [
              "<IPython.core.display.HTML object>"
            ]
          },
          "metadata": {
            "tags": []
          }
        },
        {
          "output_type": "display_data",
          "data": {
            "text/html": [
              "<span style=\"color:cyan\"> |-Score: 0.8160905241966248</span>"
            ],
            "text/plain": [
              "<IPython.core.display.HTML object>"
            ]
          },
          "metadata": {
            "tags": []
          }
        },
        {
          "output_type": "display_data",
          "data": {
            "text/html": [
              "<span style=\"color:cyan\"> |-Best step: 0</span>"
            ],
            "text/plain": [
              "<IPython.core.display.HTML object>"
            ]
          },
          "metadata": {
            "tags": []
          }
        },
        {
          "output_type": "display_data",
          "data": {
            "text/html": [
              "<span style=\"color:#7E57C2\"><h2 style=\"font-size:16px\">Hyperparameters:</h2></span>"
            ],
            "text/plain": [
              "<IPython.core.display.HTML object>"
            ]
          },
          "metadata": {
            "tags": []
          }
        },
        {
          "output_type": "display_data",
          "data": {
            "text/html": [
              "<span style=\"color:cyan\"> |-Conv Layers: 2</span>"
            ],
            "text/plain": [
              "<IPython.core.display.HTML object>"
            ]
          },
          "metadata": {
            "tags": []
          }
        },
        {
          "output_type": "display_data",
          "data": {
            "text/html": [
              "<span style=\"color:blue\"> |-Dense layer: 1024</span>"
            ],
            "text/plain": [
              "<IPython.core.display.HTML object>"
            ]
          },
          "metadata": {
            "tags": []
          }
        },
        {
          "output_type": "display_data",
          "data": {
            "text/html": [
              "<span style=\"color:cyan\"> |-layer_0_filters: 64</span>"
            ],
            "text/plain": [
              "<IPython.core.display.HTML object>"
            ]
          },
          "metadata": {
            "tags": []
          }
        },
        {
          "output_type": "display_data",
          "data": {
            "text/html": [
              "<span style=\"color:blue\"> |-layer_1_filters: 16</span>"
            ],
            "text/plain": [
              "<IPython.core.display.HTML object>"
            ]
          },
          "metadata": {
            "tags": []
          }
        },
        {
          "output_type": "display_data",
          "data": {
            "text/html": [
              "<span style=\"color:cyan\"> |-layer_2_filters: 16</span>"
            ],
            "text/plain": [
              "<IPython.core.display.HTML object>"
            ]
          },
          "metadata": {
            "tags": []
          }
        },
        {
          "output_type": "stream",
          "text": [
            "Epoch 1/10\n",
            "760/760 [==============================] - 71s 94ms/step - loss: 0.5851 - accuracy: 0.7655 - val_loss: 0.4998 - val_accuracy: 0.8005\n",
            "Epoch 2/10\n",
            "760/760 [==============================] - 71s 94ms/step - loss: 0.1929 - accuracy: 0.9287 - val_loss: 0.4050 - val_accuracy: 0.8725\n",
            "Epoch 3/10\n",
            "760/760 [==============================] - 71s 94ms/step - loss: 0.1201 - accuracy: 0.9564 - val_loss: 0.4473 - val_accuracy: 0.8636\n",
            "Epoch 4/10\n",
            "760/760 [==============================] - 72s 94ms/step - loss: 0.0846 - accuracy: 0.9698 - val_loss: 0.4575 - val_accuracy: 0.8761\n",
            "Epoch 5/10\n",
            "760/760 [==============================] - 71s 94ms/step - loss: 0.0655 - accuracy: 0.9774 - val_loss: 0.5167 - val_accuracy: 0.8674\n",
            "Epoch 6/10\n",
            "760/760 [==============================] - 71s 93ms/step - loss: 0.0463 - accuracy: 0.9840 - val_loss: 0.5406 - val_accuracy: 0.8705\n",
            "Epoch 7/10\n",
            "760/760 [==============================] - 72s 95ms/step - loss: 0.0385 - accuracy: 0.9863 - val_loss: 0.5220 - val_accuracy: 0.8865\n",
            "Epoch 8/10\n",
            "760/760 [==============================] - 71s 94ms/step - loss: 0.0411 - accuracy: 0.9859 - val_loss: 0.6038 - val_accuracy: 0.8835\n",
            "Epoch 9/10\n",
            "760/760 [==============================] - 72s 94ms/step - loss: 0.0282 - accuracy: 0.9908 - val_loss: 0.6375 - val_accuracy: 0.8633\n",
            "Epoch 10/10\n",
            "760/760 [==============================] - 71s 94ms/step - loss: 0.0330 - accuracy: 0.9888 - val_loss: 0.8302 - val_accuracy: 0.8522\n"
          ],
          "name": "stdout"
        },
        {
          "output_type": "display_data",
          "data": {
            "text/html": [
              "<span style=\"color:#4527A0\"><h1 style=\"font-size:18px\">Trial complete</h1></span>"
            ],
            "text/plain": [
              "<IPython.core.display.HTML object>"
            ]
          },
          "metadata": {
            "tags": []
          }
        },
        {
          "output_type": "display_data",
          "data": {
            "text/html": [
              "<span style=\"color:#4527A0\"><h1 style=\"font-size:18px\">Trial summary</h1></span>"
            ],
            "text/plain": [
              "<IPython.core.display.HTML object>"
            ]
          },
          "metadata": {
            "tags": []
          }
        },
        {
          "output_type": "display_data",
          "data": {
            "text/html": [
              "<span style=\"color:cyan\"> |-Trial ID: 0ebdbe628628cd76869420d408311dea</span>"
            ],
            "text/plain": [
              "<IPython.core.display.HTML object>"
            ]
          },
          "metadata": {
            "tags": []
          }
        },
        {
          "output_type": "display_data",
          "data": {
            "text/html": [
              "<span style=\"color:cyan\"> |-Score: 0.8864609003067017</span>"
            ],
            "text/plain": [
              "<IPython.core.display.HTML object>"
            ]
          },
          "metadata": {
            "tags": []
          }
        },
        {
          "output_type": "display_data",
          "data": {
            "text/html": [
              "<span style=\"color:cyan\"> |-Best step: 0</span>"
            ],
            "text/plain": [
              "<IPython.core.display.HTML object>"
            ]
          },
          "metadata": {
            "tags": []
          }
        },
        {
          "output_type": "display_data",
          "data": {
            "text/html": [
              "<span style=\"color:#7E57C2\"><h2 style=\"font-size:16px\">Hyperparameters:</h2></span>"
            ],
            "text/plain": [
              "<IPython.core.display.HTML object>"
            ]
          },
          "metadata": {
            "tags": []
          }
        },
        {
          "output_type": "display_data",
          "data": {
            "text/html": [
              "<span style=\"color:cyan\"> |-Conv Layers: 2</span>"
            ],
            "text/plain": [
              "<IPython.core.display.HTML object>"
            ]
          },
          "metadata": {
            "tags": []
          }
        },
        {
          "output_type": "display_data",
          "data": {
            "text/html": [
              "<span style=\"color:blue\"> |-Dense layer: 128</span>"
            ],
            "text/plain": [
              "<IPython.core.display.HTML object>"
            ]
          },
          "metadata": {
            "tags": []
          }
        },
        {
          "output_type": "display_data",
          "data": {
            "text/html": [
              "<span style=\"color:cyan\"> |-layer_0_filters: 64</span>"
            ],
            "text/plain": [
              "<IPython.core.display.HTML object>"
            ]
          },
          "metadata": {
            "tags": []
          }
        },
        {
          "output_type": "display_data",
          "data": {
            "text/html": [
              "<span style=\"color:blue\"> |-layer_1_filters: 64</span>"
            ],
            "text/plain": [
              "<IPython.core.display.HTML object>"
            ]
          },
          "metadata": {
            "tags": []
          }
        },
        {
          "output_type": "display_data",
          "data": {
            "text/html": [
              "<span style=\"color:cyan\"> |-layer_2_filters: 64</span>"
            ],
            "text/plain": [
              "<IPython.core.display.HTML object>"
            ]
          },
          "metadata": {
            "tags": []
          }
        },
        {
          "output_type": "stream",
          "text": [
            "Epoch 1/10\n",
            "760/760 [==============================] - 63s 83ms/step - loss: 0.6545 - accuracy: 0.7500 - val_loss: 0.4827 - val_accuracy: 0.8137\n",
            "Epoch 2/10\n",
            "760/760 [==============================] - 63s 83ms/step - loss: 0.2357 - accuracy: 0.9151 - val_loss: 0.3891 - val_accuracy: 0.8587\n",
            "Epoch 3/10\n",
            "760/760 [==============================] - 63s 83ms/step - loss: 0.1475 - accuracy: 0.9463 - val_loss: 0.4407 - val_accuracy: 0.8534\n",
            "Epoch 4/10\n",
            "760/760 [==============================] - 63s 83ms/step - loss: 0.1072 - accuracy: 0.9616 - val_loss: 0.3682 - val_accuracy: 0.8852\n",
            "Epoch 5/10\n",
            "760/760 [==============================] - 63s 83ms/step - loss: 0.0778 - accuracy: 0.9737 - val_loss: 0.3471 - val_accuracy: 0.8963\n",
            "Epoch 6/10\n",
            "760/760 [==============================] - 64s 84ms/step - loss: 0.0646 - accuracy: 0.9774 - val_loss: 0.4655 - val_accuracy: 0.8795\n",
            "Epoch 7/10\n",
            "760/760 [==============================] - 63s 82ms/step - loss: 0.0531 - accuracy: 0.9819 - val_loss: 0.5000 - val_accuracy: 0.8739\n",
            "Epoch 8/10\n",
            "760/760 [==============================] - 62s 82ms/step - loss: 0.0470 - accuracy: 0.9835 - val_loss: 0.4975 - val_accuracy: 0.8866\n",
            "Epoch 9/10\n",
            "760/760 [==============================] - 62s 82ms/step - loss: 0.0432 - accuracy: 0.9858 - val_loss: 0.4340 - val_accuracy: 0.8923\n",
            "Epoch 10/10\n",
            "760/760 [==============================] - 62s 82ms/step - loss: 0.0357 - accuracy: 0.9875 - val_loss: 0.5039 - val_accuracy: 0.8957\n"
          ],
          "name": "stdout"
        },
        {
          "output_type": "display_data",
          "data": {
            "text/html": [
              "<span style=\"color:#4527A0\"><h1 style=\"font-size:18px\">Trial complete</h1></span>"
            ],
            "text/plain": [
              "<IPython.core.display.HTML object>"
            ]
          },
          "metadata": {
            "tags": []
          }
        },
        {
          "output_type": "display_data",
          "data": {
            "text/html": [
              "<span style=\"color:#4527A0\"><h1 style=\"font-size:18px\">Trial summary</h1></span>"
            ],
            "text/plain": [
              "<IPython.core.display.HTML object>"
            ]
          },
          "metadata": {
            "tags": []
          }
        },
        {
          "output_type": "display_data",
          "data": {
            "text/html": [
              "<span style=\"color:cyan\"> |-Trial ID: 1fdfddc318bf3328ddb9f9f6d0c607f1</span>"
            ],
            "text/plain": [
              "<IPython.core.display.HTML object>"
            ]
          },
          "metadata": {
            "tags": []
          }
        },
        {
          "output_type": "display_data",
          "data": {
            "text/html": [
              "<span style=\"color:cyan\"> |-Score: 0.8962551355361938</span>"
            ],
            "text/plain": [
              "<IPython.core.display.HTML object>"
            ]
          },
          "metadata": {
            "tags": []
          }
        },
        {
          "output_type": "display_data",
          "data": {
            "text/html": [
              "<span style=\"color:cyan\"> |-Best step: 0</span>"
            ],
            "text/plain": [
              "<IPython.core.display.HTML object>"
            ]
          },
          "metadata": {
            "tags": []
          }
        },
        {
          "output_type": "display_data",
          "data": {
            "text/html": [
              "<span style=\"color:#7E57C2\"><h2 style=\"font-size:16px\">Hyperparameters:</h2></span>"
            ],
            "text/plain": [
              "<IPython.core.display.HTML object>"
            ]
          },
          "metadata": {
            "tags": []
          }
        },
        {
          "output_type": "display_data",
          "data": {
            "text/html": [
              "<span style=\"color:cyan\"> |-Conv Layers: 1</span>"
            ],
            "text/plain": [
              "<IPython.core.display.HTML object>"
            ]
          },
          "metadata": {
            "tags": []
          }
        },
        {
          "output_type": "display_data",
          "data": {
            "text/html": [
              "<span style=\"color:blue\"> |-Dense layer: 1024</span>"
            ],
            "text/plain": [
              "<IPython.core.display.HTML object>"
            ]
          },
          "metadata": {
            "tags": []
          }
        },
        {
          "output_type": "display_data",
          "data": {
            "text/html": [
              "<span style=\"color:cyan\"> |-layer_0_filters: 64</span>"
            ],
            "text/plain": [
              "<IPython.core.display.HTML object>"
            ]
          },
          "metadata": {
            "tags": []
          }
        },
        {
          "output_type": "display_data",
          "data": {
            "text/html": [
              "<span style=\"color:blue\"> |-layer_1_filters: 16</span>"
            ],
            "text/plain": [
              "<IPython.core.display.HTML object>"
            ]
          },
          "metadata": {
            "tags": []
          }
        },
        {
          "output_type": "display_data",
          "data": {
            "text/html": [
              "<span style=\"color:cyan\"> |-layer_2_filters: 16</span>"
            ],
            "text/plain": [
              "<IPython.core.display.HTML object>"
            ]
          },
          "metadata": {
            "tags": []
          }
        },
        {
          "output_type": "stream",
          "text": [
            "Epoch 1/10\n",
            "760/760 [==============================] - 14s 19ms/step - loss: 1.6308 - accuracy: 0.2217 - val_loss: 1.5870 - val_accuracy: 0.2696\n",
            "Epoch 2/10\n",
            "760/760 [==============================] - 14s 19ms/step - loss: 1.6044 - accuracy: 0.2346 - val_loss: 1.5883 - val_accuracy: 0.2782\n",
            "Epoch 3/10\n",
            "760/760 [==============================] - 14s 18ms/step - loss: 1.5994 - accuracy: 0.2386 - val_loss: 1.5853 - val_accuracy: 0.3088\n",
            "Epoch 4/10\n",
            "760/760 [==============================] - 14s 18ms/step - loss: 1.5964 - accuracy: 0.2456 - val_loss: 1.5841 - val_accuracy: 0.2070\n",
            "Epoch 5/10\n",
            "760/760 [==============================] - 14s 19ms/step - loss: 1.5946 - accuracy: 0.2439 - val_loss: 1.5821 - val_accuracy: 0.2742\n",
            "Epoch 6/10\n",
            "760/760 [==============================] - 14s 19ms/step - loss: 1.5946 - accuracy: 0.2457 - val_loss: 1.5802 - val_accuracy: 0.2600\n",
            "Epoch 7/10\n",
            "760/760 [==============================] - 14s 19ms/step - loss: 1.5955 - accuracy: 0.2436 - val_loss: 1.5805 - val_accuracy: 0.3464\n",
            "Epoch 8/10\n",
            "760/760 [==============================] - 14s 19ms/step - loss: 1.5954 - accuracy: 0.2434 - val_loss: 1.5819 - val_accuracy: 0.3160\n",
            "Epoch 9/10\n",
            "760/760 [==============================] - 14s 19ms/step - loss: 1.5936 - accuracy: 0.2474 - val_loss: 1.5858 - val_accuracy: 0.3006\n",
            "Epoch 10/10\n",
            "760/760 [==============================] - 14s 18ms/step - loss: 1.5910 - accuracy: 0.2496 - val_loss: 1.5829 - val_accuracy: 0.3781\n"
          ],
          "name": "stdout"
        },
        {
          "output_type": "display_data",
          "data": {
            "text/html": [
              "<span style=\"color:#4527A0\"><h1 style=\"font-size:18px\">Trial complete</h1></span>"
            ],
            "text/plain": [
              "<IPython.core.display.HTML object>"
            ]
          },
          "metadata": {
            "tags": []
          }
        },
        {
          "output_type": "display_data",
          "data": {
            "text/html": [
              "<span style=\"color:#4527A0\"><h1 style=\"font-size:18px\">Trial summary</h1></span>"
            ],
            "text/plain": [
              "<IPython.core.display.HTML object>"
            ]
          },
          "metadata": {
            "tags": []
          }
        },
        {
          "output_type": "display_data",
          "data": {
            "text/html": [
              "<span style=\"color:cyan\"> |-Trial ID: 9b416113f795b3f21ae4f8b0d55e87e8</span>"
            ],
            "text/plain": [
              "<IPython.core.display.HTML object>"
            ]
          },
          "metadata": {
            "tags": []
          }
        },
        {
          "output_type": "display_data",
          "data": {
            "text/html": [
              "<span style=\"color:cyan\"> |-Score: 0.3780658543109894</span>"
            ],
            "text/plain": [
              "<IPython.core.display.HTML object>"
            ]
          },
          "metadata": {
            "tags": []
          }
        },
        {
          "output_type": "display_data",
          "data": {
            "text/html": [
              "<span style=\"color:cyan\"> |-Best step: 0</span>"
            ],
            "text/plain": [
              "<IPython.core.display.HTML object>"
            ]
          },
          "metadata": {
            "tags": []
          }
        },
        {
          "output_type": "display_data",
          "data": {
            "text/html": [
              "<span style=\"color:#7E57C2\"><h2 style=\"font-size:16px\">Hyperparameters:</h2></span>"
            ],
            "text/plain": [
              "<IPython.core.display.HTML object>"
            ]
          },
          "metadata": {
            "tags": []
          }
        },
        {
          "output_type": "display_data",
          "data": {
            "text/html": [
              "<span style=\"color:cyan\"> |-Conv Layers: 0</span>"
            ],
            "text/plain": [
              "<IPython.core.display.HTML object>"
            ]
          },
          "metadata": {
            "tags": []
          }
        },
        {
          "output_type": "display_data",
          "data": {
            "text/html": [
              "<span style=\"color:blue\"> |-Dense layer: 128</span>"
            ],
            "text/plain": [
              "<IPython.core.display.HTML object>"
            ]
          },
          "metadata": {
            "tags": []
          }
        },
        {
          "output_type": "display_data",
          "data": {
            "text/html": [
              "<span style=\"color:cyan\"> |-layer_0_filters: 16</span>"
            ],
            "text/plain": [
              "<IPython.core.display.HTML object>"
            ]
          },
          "metadata": {
            "tags": []
          }
        },
        {
          "output_type": "display_data",
          "data": {
            "text/html": [
              "<span style=\"color:blue\"> |-layer_1_filters: 16</span>"
            ],
            "text/plain": [
              "<IPython.core.display.HTML object>"
            ]
          },
          "metadata": {
            "tags": []
          }
        },
        {
          "output_type": "display_data",
          "data": {
            "text/html": [
              "<span style=\"color:cyan\"> |-layer_2_filters: 32</span>"
            ],
            "text/plain": [
              "<IPython.core.display.HTML object>"
            ]
          },
          "metadata": {
            "tags": []
          }
        },
        {
          "output_type": "stream",
          "text": [
            "Epoch 1/10\n",
            "760/760 [==============================] - 22s 29ms/step - loss: 0.8711 - accuracy: 0.6542 - val_loss: 0.5559 - val_accuracy: 0.8055\n",
            "Epoch 2/10\n",
            "760/760 [==============================] - 22s 29ms/step - loss: 0.4207 - accuracy: 0.8447 - val_loss: 0.5069 - val_accuracy: 0.7819\n",
            "Epoch 3/10\n",
            "760/760 [==============================] - 22s 28ms/step - loss: 0.3076 - accuracy: 0.8870 - val_loss: 0.4321 - val_accuracy: 0.8520\n",
            "Epoch 4/10\n",
            "760/760 [==============================] - 22s 29ms/step - loss: 0.2455 - accuracy: 0.9103 - val_loss: 0.4379 - val_accuracy: 0.8579\n",
            "Epoch 5/10\n",
            "760/760 [==============================] - 22s 29ms/step - loss: 0.1999 - accuracy: 0.9288 - val_loss: 0.4310 - val_accuracy: 0.8578\n",
            "Epoch 6/10\n",
            "760/760 [==============================] - 22s 29ms/step - loss: 0.1693 - accuracy: 0.9399 - val_loss: 0.4057 - val_accuracy: 0.8767\n",
            "Epoch 7/10\n",
            "760/760 [==============================] - 22s 29ms/step - loss: 0.1470 - accuracy: 0.9472 - val_loss: 0.4584 - val_accuracy: 0.8609\n",
            "Epoch 8/10\n",
            "760/760 [==============================] - 23s 30ms/step - loss: 0.1269 - accuracy: 0.9559 - val_loss: 0.4653 - val_accuracy: 0.8653\n",
            "Epoch 9/10\n",
            "760/760 [==============================] - 22s 29ms/step - loss: 0.1151 - accuracy: 0.9600 - val_loss: 0.3827 - val_accuracy: 0.8847\n",
            "Epoch 10/10\n",
            "760/760 [==============================] - 22s 29ms/step - loss: 0.1071 - accuracy: 0.9621 - val_loss: 0.4440 - val_accuracy: 0.8697\n"
          ],
          "name": "stdout"
        },
        {
          "output_type": "display_data",
          "data": {
            "text/html": [
              "<span style=\"color:#4527A0\"><h1 style=\"font-size:18px\">Trial complete</h1></span>"
            ],
            "text/plain": [
              "<IPython.core.display.HTML object>"
            ]
          },
          "metadata": {
            "tags": []
          }
        },
        {
          "output_type": "display_data",
          "data": {
            "text/html": [
              "<span style=\"color:#4527A0\"><h1 style=\"font-size:18px\">Trial summary</h1></span>"
            ],
            "text/plain": [
              "<IPython.core.display.HTML object>"
            ]
          },
          "metadata": {
            "tags": []
          }
        },
        {
          "output_type": "display_data",
          "data": {
            "text/html": [
              "<span style=\"color:cyan\"> |-Trial ID: 3c39f34f0b10c8800394f7c959a55b2a</span>"
            ],
            "text/plain": [
              "<IPython.core.display.HTML object>"
            ]
          },
          "metadata": {
            "tags": []
          }
        },
        {
          "output_type": "display_data",
          "data": {
            "text/html": [
              "<span style=\"color:cyan\"> |-Score: 0.8847324848175049</span>"
            ],
            "text/plain": [
              "<IPython.core.display.HTML object>"
            ]
          },
          "metadata": {
            "tags": []
          }
        },
        {
          "output_type": "display_data",
          "data": {
            "text/html": [
              "<span style=\"color:cyan\"> |-Best step: 0</span>"
            ],
            "text/plain": [
              "<IPython.core.display.HTML object>"
            ]
          },
          "metadata": {
            "tags": []
          }
        },
        {
          "output_type": "display_data",
          "data": {
            "text/html": [
              "<span style=\"color:#7E57C2\"><h2 style=\"font-size:16px\">Hyperparameters:</h2></span>"
            ],
            "text/plain": [
              "<IPython.core.display.HTML object>"
            ]
          },
          "metadata": {
            "tags": []
          }
        },
        {
          "output_type": "display_data",
          "data": {
            "text/html": [
              "<span style=\"color:cyan\"> |-Conv Layers: 1</span>"
            ],
            "text/plain": [
              "<IPython.core.display.HTML object>"
            ]
          },
          "metadata": {
            "tags": []
          }
        },
        {
          "output_type": "display_data",
          "data": {
            "text/html": [
              "<span style=\"color:blue\"> |-Dense layer: 256</span>"
            ],
            "text/plain": [
              "<IPython.core.display.HTML object>"
            ]
          },
          "metadata": {
            "tags": []
          }
        },
        {
          "output_type": "display_data",
          "data": {
            "text/html": [
              "<span style=\"color:cyan\"> |-layer_0_filters: 16</span>"
            ],
            "text/plain": [
              "<IPython.core.display.HTML object>"
            ]
          },
          "metadata": {
            "tags": []
          }
        },
        {
          "output_type": "display_data",
          "data": {
            "text/html": [
              "<span style=\"color:blue\"> |-layer_1_filters: 16</span>"
            ],
            "text/plain": [
              "<IPython.core.display.HTML object>"
            ]
          },
          "metadata": {
            "tags": []
          }
        },
        {
          "output_type": "display_data",
          "data": {
            "text/html": [
              "<span style=\"color:cyan\"> |-layer_2_filters: 16</span>"
            ],
            "text/plain": [
              "<IPython.core.display.HTML object>"
            ]
          },
          "metadata": {
            "tags": []
          }
        },
        {
          "output_type": "stream",
          "text": [
            "Epoch 1/10\n",
            "760/760 [==============================] - 15s 20ms/step - loss: 1.6199 - accuracy: 0.2247 - val_loss: 1.5972 - val_accuracy: 0.2950\n",
            "Epoch 2/10\n",
            "760/760 [==============================] - 15s 20ms/step - loss: 1.5988 - accuracy: 0.2391 - val_loss: 1.5991 - val_accuracy: 0.2000\n",
            "Epoch 3/10\n",
            "760/760 [==============================] - 15s 20ms/step - loss: 1.5979 - accuracy: 0.2391 - val_loss: 1.5915 - val_accuracy: 0.2532\n",
            "Epoch 4/10\n",
            "760/760 [==============================] - 15s 20ms/step - loss: 1.5937 - accuracy: 0.2428 - val_loss: 1.5837 - val_accuracy: 0.3940\n",
            "Epoch 5/10\n",
            "760/760 [==============================] - 16s 21ms/step - loss: 1.5948 - accuracy: 0.2438 - val_loss: 1.5992 - val_accuracy: 0.2197\n",
            "Epoch 6/10\n",
            "760/760 [==============================] - 15s 19ms/step - loss: 1.5918 - accuracy: 0.2497 - val_loss: 1.5996 - val_accuracy: 0.2477\n",
            "Epoch 7/10\n",
            "760/760 [==============================] - 15s 19ms/step - loss: 1.5877 - accuracy: 0.2558 - val_loss: 1.5898 - val_accuracy: 0.3021\n",
            "Epoch 8/10\n",
            "760/760 [==============================] - 15s 20ms/step - loss: 1.5842 - accuracy: 0.2621 - val_loss: 1.5953 - val_accuracy: 0.2033\n",
            "Epoch 9/10\n",
            "760/760 [==============================] - 15s 19ms/step - loss: 1.5753 - accuracy: 0.2673 - val_loss: 1.5998 - val_accuracy: 0.2015\n",
            "Epoch 10/10\n",
            "760/760 [==============================] - 15s 19ms/step - loss: 1.5601 - accuracy: 0.2900 - val_loss: 1.6071 - val_accuracy: 0.2000\n"
          ],
          "name": "stdout"
        },
        {
          "output_type": "display_data",
          "data": {
            "text/html": [
              "<span style=\"color:#4527A0\"><h1 style=\"font-size:18px\">Trial complete</h1></span>"
            ],
            "text/plain": [
              "<IPython.core.display.HTML object>"
            ]
          },
          "metadata": {
            "tags": []
          }
        },
        {
          "output_type": "display_data",
          "data": {
            "text/html": [
              "<span style=\"color:#4527A0\"><h1 style=\"font-size:18px\">Trial summary</h1></span>"
            ],
            "text/plain": [
              "<IPython.core.display.HTML object>"
            ]
          },
          "metadata": {
            "tags": []
          }
        },
        {
          "output_type": "display_data",
          "data": {
            "text/html": [
              "<span style=\"color:cyan\"> |-Trial ID: 2c2f18ac8b453772a04ddb8dcdf9841e</span>"
            ],
            "text/plain": [
              "<IPython.core.display.HTML object>"
            ]
          },
          "metadata": {
            "tags": []
          }
        },
        {
          "output_type": "display_data",
          "data": {
            "text/html": [
              "<span style=\"color:cyan\"> |-Score: 0.39399176836013794</span>"
            ],
            "text/plain": [
              "<IPython.core.display.HTML object>"
            ]
          },
          "metadata": {
            "tags": []
          }
        },
        {
          "output_type": "display_data",
          "data": {
            "text/html": [
              "<span style=\"color:cyan\"> |-Best step: 0</span>"
            ],
            "text/plain": [
              "<IPython.core.display.HTML object>"
            ]
          },
          "metadata": {
            "tags": []
          }
        },
        {
          "output_type": "display_data",
          "data": {
            "text/html": [
              "<span style=\"color:#7E57C2\"><h2 style=\"font-size:16px\">Hyperparameters:</h2></span>"
            ],
            "text/plain": [
              "<IPython.core.display.HTML object>"
            ]
          },
          "metadata": {
            "tags": []
          }
        },
        {
          "output_type": "display_data",
          "data": {
            "text/html": [
              "<span style=\"color:cyan\"> |-Conv Layers: 0</span>"
            ],
            "text/plain": [
              "<IPython.core.display.HTML object>"
            ]
          },
          "metadata": {
            "tags": []
          }
        },
        {
          "output_type": "display_data",
          "data": {
            "text/html": [
              "<span style=\"color:blue\"> |-Dense layer: 1024</span>"
            ],
            "text/plain": [
              "<IPython.core.display.HTML object>"
            ]
          },
          "metadata": {
            "tags": []
          }
        },
        {
          "output_type": "display_data",
          "data": {
            "text/html": [
              "<span style=\"color:cyan\"> |-layer_0_filters: 64</span>"
            ],
            "text/plain": [
              "<IPython.core.display.HTML object>"
            ]
          },
          "metadata": {
            "tags": []
          }
        },
        {
          "output_type": "display_data",
          "data": {
            "text/html": [
              "<span style=\"color:blue\"> |-layer_1_filters: 64</span>"
            ],
            "text/plain": [
              "<IPython.core.display.HTML object>"
            ]
          },
          "metadata": {
            "tags": []
          }
        },
        {
          "output_type": "display_data",
          "data": {
            "text/html": [
              "<span style=\"color:cyan\"> |-layer_2_filters: 16</span>"
            ],
            "text/plain": [
              "<IPython.core.display.HTML object>"
            ]
          },
          "metadata": {
            "tags": []
          }
        },
        {
          "output_type": "stream",
          "text": [
            "Epoch 1/10\n",
            "760/760 [==============================] - 19s 26ms/step - loss: 1.0334 - accuracy: 0.5869 - val_loss: 0.6917 - val_accuracy: 0.7340\n",
            "Epoch 2/10\n",
            "760/760 [==============================] - 20s 27ms/step - loss: 0.5348 - accuracy: 0.8030 - val_loss: 0.5345 - val_accuracy: 0.7968\n",
            "Epoch 3/10\n",
            "760/760 [==============================] - 20s 26ms/step - loss: 0.3904 - accuracy: 0.8566 - val_loss: 0.4490 - val_accuracy: 0.8398\n",
            "Epoch 4/10\n",
            "760/760 [==============================] - 19s 25ms/step - loss: 0.3118 - accuracy: 0.8878 - val_loss: 0.4629 - val_accuracy: 0.8519\n",
            "Epoch 5/10\n",
            "760/760 [==============================] - 20s 26ms/step - loss: 0.2555 - accuracy: 0.9097 - val_loss: 0.4458 - val_accuracy: 0.8511\n",
            "Epoch 6/10\n",
            "760/760 [==============================] - 20s 26ms/step - loss: 0.2218 - accuracy: 0.9212 - val_loss: 0.3679 - val_accuracy: 0.8700\n",
            "Epoch 7/10\n",
            "760/760 [==============================] - 20s 26ms/step - loss: 0.1977 - accuracy: 0.9285 - val_loss: 0.4058 - val_accuracy: 0.8721\n",
            "Epoch 8/10\n",
            "760/760 [==============================] - 19s 26ms/step - loss: 0.1760 - accuracy: 0.9370 - val_loss: 0.4307 - val_accuracy: 0.8774\n",
            "Epoch 9/10\n",
            "760/760 [==============================] - 19s 25ms/step - loss: 0.1578 - accuracy: 0.9449 - val_loss: 0.4422 - val_accuracy: 0.8608\n",
            "Epoch 10/10\n",
            "760/760 [==============================] - 19s 26ms/step - loss: 0.1424 - accuracy: 0.9498 - val_loss: 0.3933 - val_accuracy: 0.8809\n"
          ],
          "name": "stdout"
        },
        {
          "output_type": "display_data",
          "data": {
            "text/html": [
              "<span style=\"color:#4527A0\"><h1 style=\"font-size:18px\">Trial complete</h1></span>"
            ],
            "text/plain": [
              "<IPython.core.display.HTML object>"
            ]
          },
          "metadata": {
            "tags": []
          }
        },
        {
          "output_type": "display_data",
          "data": {
            "text/html": [
              "<span style=\"color:#4527A0\"><h1 style=\"font-size:18px\">Trial summary</h1></span>"
            ],
            "text/plain": [
              "<IPython.core.display.HTML object>"
            ]
          },
          "metadata": {
            "tags": []
          }
        },
        {
          "output_type": "display_data",
          "data": {
            "text/html": [
              "<span style=\"color:cyan\"> |-Trial ID: b3161c7f9c96cadd34938082e0f6da9b</span>"
            ],
            "text/plain": [
              "<IPython.core.display.HTML object>"
            ]
          },
          "metadata": {
            "tags": []
          }
        },
        {
          "output_type": "display_data",
          "data": {
            "text/html": [
              "<span style=\"color:cyan\"> |-Score: 0.8809465169906616</span>"
            ],
            "text/plain": [
              "<IPython.core.display.HTML object>"
            ]
          },
          "metadata": {
            "tags": []
          }
        },
        {
          "output_type": "display_data",
          "data": {
            "text/html": [
              "<span style=\"color:cyan\"> |-Best step: 0</span>"
            ],
            "text/plain": [
              "<IPython.core.display.HTML object>"
            ]
          },
          "metadata": {
            "tags": []
          }
        },
        {
          "output_type": "display_data",
          "data": {
            "text/html": [
              "<span style=\"color:#7E57C2\"><h2 style=\"font-size:16px\">Hyperparameters:</h2></span>"
            ],
            "text/plain": [
              "<IPython.core.display.HTML object>"
            ]
          },
          "metadata": {
            "tags": []
          }
        },
        {
          "output_type": "display_data",
          "data": {
            "text/html": [
              "<span style=\"color:cyan\"> |-Conv Layers: 1</span>"
            ],
            "text/plain": [
              "<IPython.core.display.HTML object>"
            ]
          },
          "metadata": {
            "tags": []
          }
        },
        {
          "output_type": "display_data",
          "data": {
            "text/html": [
              "<span style=\"color:blue\"> |-Dense layer: 64</span>"
            ],
            "text/plain": [
              "<IPython.core.display.HTML object>"
            ]
          },
          "metadata": {
            "tags": []
          }
        },
        {
          "output_type": "display_data",
          "data": {
            "text/html": [
              "<span style=\"color:cyan\"> |-layer_0_filters: 16</span>"
            ],
            "text/plain": [
              "<IPython.core.display.HTML object>"
            ]
          },
          "metadata": {
            "tags": []
          }
        },
        {
          "output_type": "display_data",
          "data": {
            "text/html": [
              "<span style=\"color:blue\"> |-layer_1_filters: 32</span>"
            ],
            "text/plain": [
              "<IPython.core.display.HTML object>"
            ]
          },
          "metadata": {
            "tags": []
          }
        },
        {
          "output_type": "display_data",
          "data": {
            "text/html": [
              "<span style=\"color:cyan\"> |-layer_2_filters: 64</span>"
            ],
            "text/plain": [
              "<IPython.core.display.HTML object>"
            ]
          },
          "metadata": {
            "tags": []
          }
        },
        {
          "output_type": "stream",
          "text": [
            "Epoch 1/10\n",
            "760/760 [==============================] - 53s 70ms/step - loss: 0.6346 - accuracy: 0.7439 - val_loss: 0.5065 - val_accuracy: 0.7978\n",
            "Epoch 2/10\n",
            "760/760 [==============================] - 53s 69ms/step - loss: 0.2037 - accuracy: 0.9229 - val_loss: 0.4063 - val_accuracy: 0.8575\n",
            "Epoch 3/10\n",
            "760/760 [==============================] - 53s 70ms/step - loss: 0.1189 - accuracy: 0.9565 - val_loss: 0.4899 - val_accuracy: 0.8449\n",
            "Epoch 4/10\n",
            "760/760 [==============================] - 54s 71ms/step - loss: 0.0810 - accuracy: 0.9702 - val_loss: 0.5318 - val_accuracy: 0.8370\n",
            "Epoch 5/10\n",
            "760/760 [==============================] - 53s 70ms/step - loss: 0.0600 - accuracy: 0.9789 - val_loss: 0.6483 - val_accuracy: 0.8459\n",
            "Epoch 6/10\n",
            "760/760 [==============================] - 53s 70ms/step - loss: 0.0485 - accuracy: 0.9825 - val_loss: 0.6303 - val_accuracy: 0.8489\n",
            "Epoch 7/10\n",
            "760/760 [==============================] - 53s 70ms/step - loss: 0.0396 - accuracy: 0.9866 - val_loss: 0.9132 - val_accuracy: 0.8267\n",
            "Epoch 8/10\n",
            "760/760 [==============================] - 53s 70ms/step - loss: 0.0365 - accuracy: 0.9875 - val_loss: 0.8889 - val_accuracy: 0.8240\n",
            "Epoch 9/10\n",
            "760/760 [==============================] - 53s 70ms/step - loss: 0.0310 - accuracy: 0.9898 - val_loss: 0.5954 - val_accuracy: 0.8638\n",
            "Epoch 10/10\n",
            "760/760 [==============================] - 53s 70ms/step - loss: 0.0287 - accuracy: 0.9898 - val_loss: 0.7873 - val_accuracy: 0.8392\n"
          ],
          "name": "stdout"
        },
        {
          "output_type": "display_data",
          "data": {
            "text/html": [
              "<span style=\"color:#4527A0\"><h1 style=\"font-size:18px\">Trial complete</h1></span>"
            ],
            "text/plain": [
              "<IPython.core.display.HTML object>"
            ]
          },
          "metadata": {
            "tags": []
          }
        },
        {
          "output_type": "display_data",
          "data": {
            "text/html": [
              "<span style=\"color:#4527A0\"><h1 style=\"font-size:18px\">Trial summary</h1></span>"
            ],
            "text/plain": [
              "<IPython.core.display.HTML object>"
            ]
          },
          "metadata": {
            "tags": []
          }
        },
        {
          "output_type": "display_data",
          "data": {
            "text/html": [
              "<span style=\"color:cyan\"> |-Trial ID: 881a64a775d7b37d1814536bd28aeae3</span>"
            ],
            "text/plain": [
              "<IPython.core.display.HTML object>"
            ]
          },
          "metadata": {
            "tags": []
          }
        },
        {
          "output_type": "display_data",
          "data": {
            "text/html": [
              "<span style=\"color:cyan\"> |-Score: 0.863785982131958</span>"
            ],
            "text/plain": [
              "<IPython.core.display.HTML object>"
            ]
          },
          "metadata": {
            "tags": []
          }
        },
        {
          "output_type": "display_data",
          "data": {
            "text/html": [
              "<span style=\"color:cyan\"> |-Best step: 0</span>"
            ],
            "text/plain": [
              "<IPython.core.display.HTML object>"
            ]
          },
          "metadata": {
            "tags": []
          }
        },
        {
          "output_type": "display_data",
          "data": {
            "text/html": [
              "<span style=\"color:#7E57C2\"><h2 style=\"font-size:16px\">Hyperparameters:</h2></span>"
            ],
            "text/plain": [
              "<IPython.core.display.HTML object>"
            ]
          },
          "metadata": {
            "tags": []
          }
        },
        {
          "output_type": "display_data",
          "data": {
            "text/html": [
              "<span style=\"color:cyan\"> |-Conv Layers: 3</span>"
            ],
            "text/plain": [
              "<IPython.core.display.HTML object>"
            ]
          },
          "metadata": {
            "tags": []
          }
        },
        {
          "output_type": "display_data",
          "data": {
            "text/html": [
              "<span style=\"color:blue\"> |-Dense layer: 128</span>"
            ],
            "text/plain": [
              "<IPython.core.display.HTML object>"
            ]
          },
          "metadata": {
            "tags": []
          }
        },
        {
          "output_type": "display_data",
          "data": {
            "text/html": [
              "<span style=\"color:cyan\"> |-layer_0_filters: 64</span>"
            ],
            "text/plain": [
              "<IPython.core.display.HTML object>"
            ]
          },
          "metadata": {
            "tags": []
          }
        },
        {
          "output_type": "display_data",
          "data": {
            "text/html": [
              "<span style=\"color:blue\"> |-layer_1_filters: 16</span>"
            ],
            "text/plain": [
              "<IPython.core.display.HTML object>"
            ]
          },
          "metadata": {
            "tags": []
          }
        },
        {
          "output_type": "display_data",
          "data": {
            "text/html": [
              "<span style=\"color:cyan\"> |-layer_2_filters: 32</span>"
            ],
            "text/plain": [
              "<IPython.core.display.HTML object>"
            ]
          },
          "metadata": {
            "tags": []
          }
        },
        {
          "output_type": "stream",
          "text": [
            "Epoch 1/10\n",
            "760/760 [==============================] - 25s 33ms/step - loss: 0.7625 - accuracy: 0.7031 - val_loss: 0.5454 - val_accuracy: 0.7921\n",
            "Epoch 2/10\n",
            "760/760 [==============================] - 25s 33ms/step - loss: 0.3381 - accuracy: 0.8755 - val_loss: 0.4450 - val_accuracy: 0.8315\n",
            "Epoch 3/10\n",
            "760/760 [==============================] - 25s 32ms/step - loss: 0.2284 - accuracy: 0.9174 - val_loss: 0.4355 - val_accuracy: 0.8489\n",
            "Epoch 4/10\n",
            "760/760 [==============================] - 25s 33ms/step - loss: 0.1707 - accuracy: 0.9390 - val_loss: 0.3732 - val_accuracy: 0.8779\n",
            "Epoch 5/10\n",
            "760/760 [==============================] - 25s 32ms/step - loss: 0.1364 - accuracy: 0.9516 - val_loss: 0.3751 - val_accuracy: 0.8819\n",
            "Epoch 6/10\n",
            "760/760 [==============================] - 25s 32ms/step - loss: 0.1077 - accuracy: 0.9620 - val_loss: 0.3778 - val_accuracy: 0.8839\n",
            "Epoch 7/10\n",
            "760/760 [==============================] - 25s 32ms/step - loss: 0.0915 - accuracy: 0.9672 - val_loss: 0.3668 - val_accuracy: 0.8926\n",
            "Epoch 8/10\n",
            "760/760 [==============================] - 25s 32ms/step - loss: 0.0764 - accuracy: 0.9738 - val_loss: 0.5084 - val_accuracy: 0.8679\n",
            "Epoch 9/10\n",
            "760/760 [==============================] - 24s 32ms/step - loss: 0.0644 - accuracy: 0.9772 - val_loss: 0.5713 - val_accuracy: 0.8511\n",
            "Epoch 10/10\n",
            "760/760 [==============================] - 25s 33ms/step - loss: 0.0585 - accuracy: 0.9799 - val_loss: 0.4141 - val_accuracy: 0.8926\n"
          ],
          "name": "stdout"
        },
        {
          "output_type": "display_data",
          "data": {
            "text/html": [
              "<span style=\"color:#4527A0\"><h1 style=\"font-size:18px\">Trial complete</h1></span>"
            ],
            "text/plain": [
              "<IPython.core.display.HTML object>"
            ]
          },
          "metadata": {
            "tags": []
          }
        },
        {
          "output_type": "display_data",
          "data": {
            "text/html": [
              "<span style=\"color:#4527A0\"><h1 style=\"font-size:18px\">Trial summary</h1></span>"
            ],
            "text/plain": [
              "<IPython.core.display.HTML object>"
            ]
          },
          "metadata": {
            "tags": []
          }
        },
        {
          "output_type": "display_data",
          "data": {
            "text/html": [
              "<span style=\"color:cyan\"> |-Trial ID: 17375e3fe9842e04b6a5a742da06a712</span>"
            ],
            "text/plain": [
              "<IPython.core.display.HTML object>"
            ]
          },
          "metadata": {
            "tags": []
          }
        },
        {
          "output_type": "display_data",
          "data": {
            "text/html": [
              "<span style=\"color:cyan\"> |-Score: 0.8926337361335754</span>"
            ],
            "text/plain": [
              "<IPython.core.display.HTML object>"
            ]
          },
          "metadata": {
            "tags": []
          }
        },
        {
          "output_type": "display_data",
          "data": {
            "text/html": [
              "<span style=\"color:cyan\"> |-Best step: 0</span>"
            ],
            "text/plain": [
              "<IPython.core.display.HTML object>"
            ]
          },
          "metadata": {
            "tags": []
          }
        },
        {
          "output_type": "display_data",
          "data": {
            "text/html": [
              "<span style=\"color:#7E57C2\"><h2 style=\"font-size:16px\">Hyperparameters:</h2></span>"
            ],
            "text/plain": [
              "<IPython.core.display.HTML object>"
            ]
          },
          "metadata": {
            "tags": []
          }
        },
        {
          "output_type": "display_data",
          "data": {
            "text/html": [
              "<span style=\"color:cyan\"> |-Conv Layers: 1</span>"
            ],
            "text/plain": [
              "<IPython.core.display.HTML object>"
            ]
          },
          "metadata": {
            "tags": []
          }
        },
        {
          "output_type": "display_data",
          "data": {
            "text/html": [
              "<span style=\"color:blue\"> |-Dense layer: 256</span>"
            ],
            "text/plain": [
              "<IPython.core.display.HTML object>"
            ]
          },
          "metadata": {
            "tags": []
          }
        },
        {
          "output_type": "display_data",
          "data": {
            "text/html": [
              "<span style=\"color:cyan\"> |-layer_0_filters: 32</span>"
            ],
            "text/plain": [
              "<IPython.core.display.HTML object>"
            ]
          },
          "metadata": {
            "tags": []
          }
        },
        {
          "output_type": "display_data",
          "data": {
            "text/html": [
              "<span style=\"color:blue\"> |-layer_1_filters: 64</span>"
            ],
            "text/plain": [
              "<IPython.core.display.HTML object>"
            ]
          },
          "metadata": {
            "tags": []
          }
        },
        {
          "output_type": "display_data",
          "data": {
            "text/html": [
              "<span style=\"color:cyan\"> |-layer_2_filters: 64</span>"
            ],
            "text/plain": [
              "<IPython.core.display.HTML object>"
            ]
          },
          "metadata": {
            "tags": []
          }
        },
        {
          "output_type": "stream",
          "text": [
            "Epoch 1/10\n",
            "760/760 [==============================] - 60s 79ms/step - loss: 0.5638 - accuracy: 0.7778 - val_loss: 0.3919 - val_accuracy: 0.8645\n",
            "Epoch 2/10\n",
            "308/760 [===========>..................] - ETA: 27s - loss: 0.1916 - accuracy: 0.9293"
          ],
          "name": "stdout"
        },
        {
          "output_type": "error",
          "ename": "KeyboardInterrupt",
          "evalue": "ignored",
          "traceback": [
            "\u001b[0;31m---------------------------------------------------------------------------\u001b[0m",
            "\u001b[0;31mKeyboardInterrupt\u001b[0m                         Traceback (most recent call last)",
            "\u001b[0;32m<ipython-input-24-dd8229af4a0c>\u001b[0m in \u001b[0;36m<module>\u001b[0;34m()\u001b[0m\n\u001b[1;32m     29\u001b[0m )\n\u001b[1;32m     30\u001b[0m \u001b[0;34m\u001b[0m\u001b[0m\n\u001b[0;32m---> 31\u001b[0;31m \u001b[0mtuner\u001b[0m\u001b[0;34m.\u001b[0m\u001b[0msearch\u001b[0m\u001b[0;34m(\u001b[0m\u001b[0mimage_training\u001b[0m\u001b[0;34m,\u001b[0m \u001b[0mlabel_training\u001b[0m\u001b[0;34m,\u001b[0m \u001b[0mvalidation_data\u001b[0m\u001b[0;34m=\u001b[0m\u001b[0;34m(\u001b[0m\u001b[0mimage_test\u001b[0m\u001b[0;34m,\u001b[0m \u001b[0mlabel_test\u001b[0m\u001b[0;34m)\u001b[0m\u001b[0;34m,\u001b[0m \u001b[0mepochs\u001b[0m\u001b[0;34m=\u001b[0m\u001b[0;36m10\u001b[0m\u001b[0;34m,\u001b[0m \u001b[0mbatch_size\u001b[0m\u001b[0;34m=\u001b[0m\u001b[0;36m32\u001b[0m\u001b[0;34m)\u001b[0m\u001b[0;34m\u001b[0m\u001b[0;34m\u001b[0m\u001b[0m\n\u001b[0m",
            "\u001b[0;32m/usr/local/lib/python3.6/dist-packages/kerastuner/engine/base_tuner.py\u001b[0m in \u001b[0;36msearch\u001b[0;34m(self, *fit_args, **fit_kwargs)\u001b[0m\n\u001b[1;32m    128\u001b[0m \u001b[0;34m\u001b[0m\u001b[0m\n\u001b[1;32m    129\u001b[0m             \u001b[0mself\u001b[0m\u001b[0;34m.\u001b[0m\u001b[0mon_trial_begin\u001b[0m\u001b[0;34m(\u001b[0m\u001b[0mtrial\u001b[0m\u001b[0;34m)\u001b[0m\u001b[0;34m\u001b[0m\u001b[0;34m\u001b[0m\u001b[0m\n\u001b[0;32m--> 130\u001b[0;31m             \u001b[0mself\u001b[0m\u001b[0;34m.\u001b[0m\u001b[0mrun_trial\u001b[0m\u001b[0;34m(\u001b[0m\u001b[0mtrial\u001b[0m\u001b[0;34m,\u001b[0m \u001b[0;34m*\u001b[0m\u001b[0mfit_args\u001b[0m\u001b[0;34m,\u001b[0m \u001b[0;34m**\u001b[0m\u001b[0mfit_kwargs\u001b[0m\u001b[0;34m)\u001b[0m\u001b[0;34m\u001b[0m\u001b[0;34m\u001b[0m\u001b[0m\n\u001b[0m\u001b[1;32m    131\u001b[0m             \u001b[0mself\u001b[0m\u001b[0;34m.\u001b[0m\u001b[0mon_trial_end\u001b[0m\u001b[0;34m(\u001b[0m\u001b[0mtrial\u001b[0m\u001b[0;34m)\u001b[0m\u001b[0;34m\u001b[0m\u001b[0;34m\u001b[0m\u001b[0m\n\u001b[1;32m    132\u001b[0m         \u001b[0mself\u001b[0m\u001b[0;34m.\u001b[0m\u001b[0mon_search_end\u001b[0m\u001b[0;34m(\u001b[0m\u001b[0;34m)\u001b[0m\u001b[0;34m\u001b[0m\u001b[0;34m\u001b[0m\u001b[0m\n",
            "\u001b[0;32m/usr/local/lib/python3.6/dist-packages/kerastuner/engine/multi_execution_tuner.py\u001b[0m in \u001b[0;36mrun_trial\u001b[0;34m(self, trial, *fit_args, **fit_kwargs)\u001b[0m\n\u001b[1;32m     94\u001b[0m \u001b[0;34m\u001b[0m\u001b[0m\n\u001b[1;32m     95\u001b[0m             \u001b[0mmodel\u001b[0m \u001b[0;34m=\u001b[0m \u001b[0mself\u001b[0m\u001b[0;34m.\u001b[0m\u001b[0mhypermodel\u001b[0m\u001b[0;34m.\u001b[0m\u001b[0mbuild\u001b[0m\u001b[0;34m(\u001b[0m\u001b[0mtrial\u001b[0m\u001b[0;34m.\u001b[0m\u001b[0mhyperparameters\u001b[0m\u001b[0;34m)\u001b[0m\u001b[0;34m\u001b[0m\u001b[0;34m\u001b[0m\u001b[0m\n\u001b[0;32m---> 96\u001b[0;31m             \u001b[0mhistory\u001b[0m \u001b[0;34m=\u001b[0m \u001b[0mmodel\u001b[0m\u001b[0;34m.\u001b[0m\u001b[0mfit\u001b[0m\u001b[0;34m(\u001b[0m\u001b[0;34m*\u001b[0m\u001b[0mfit_args\u001b[0m\u001b[0;34m,\u001b[0m \u001b[0;34m**\u001b[0m\u001b[0mcopied_fit_kwargs\u001b[0m\u001b[0;34m)\u001b[0m\u001b[0;34m\u001b[0m\u001b[0;34m\u001b[0m\u001b[0m\n\u001b[0m\u001b[1;32m     97\u001b[0m             \u001b[0;32mfor\u001b[0m \u001b[0mmetric\u001b[0m\u001b[0;34m,\u001b[0m \u001b[0mepoch_values\u001b[0m \u001b[0;32min\u001b[0m \u001b[0mhistory\u001b[0m\u001b[0;34m.\u001b[0m\u001b[0mhistory\u001b[0m\u001b[0;34m.\u001b[0m\u001b[0mitems\u001b[0m\u001b[0;34m(\u001b[0m\u001b[0;34m)\u001b[0m\u001b[0;34m:\u001b[0m\u001b[0;34m\u001b[0m\u001b[0;34m\u001b[0m\u001b[0m\n\u001b[1;32m     98\u001b[0m                 \u001b[0;32mif\u001b[0m \u001b[0mself\u001b[0m\u001b[0;34m.\u001b[0m\u001b[0moracle\u001b[0m\u001b[0;34m.\u001b[0m\u001b[0mobjective\u001b[0m\u001b[0;34m.\u001b[0m\u001b[0mdirection\u001b[0m \u001b[0;34m==\u001b[0m \u001b[0;34m'min'\u001b[0m\u001b[0;34m:\u001b[0m\u001b[0;34m\u001b[0m\u001b[0;34m\u001b[0m\u001b[0m\n",
            "\u001b[0;32m/usr/local/lib/python3.6/dist-packages/tensorflow/python/keras/engine/training.py\u001b[0m in \u001b[0;36m_method_wrapper\u001b[0;34m(self, *args, **kwargs)\u001b[0m\n\u001b[1;32m    106\u001b[0m   \u001b[0;32mdef\u001b[0m \u001b[0m_method_wrapper\u001b[0m\u001b[0;34m(\u001b[0m\u001b[0mself\u001b[0m\u001b[0;34m,\u001b[0m \u001b[0;34m*\u001b[0m\u001b[0margs\u001b[0m\u001b[0;34m,\u001b[0m \u001b[0;34m**\u001b[0m\u001b[0mkwargs\u001b[0m\u001b[0;34m)\u001b[0m\u001b[0;34m:\u001b[0m\u001b[0;34m\u001b[0m\u001b[0;34m\u001b[0m\u001b[0m\n\u001b[1;32m    107\u001b[0m     \u001b[0;32mif\u001b[0m \u001b[0;32mnot\u001b[0m \u001b[0mself\u001b[0m\u001b[0;34m.\u001b[0m\u001b[0m_in_multi_worker_mode\u001b[0m\u001b[0;34m(\u001b[0m\u001b[0;34m)\u001b[0m\u001b[0;34m:\u001b[0m  \u001b[0;31m# pylint: disable=protected-access\u001b[0m\u001b[0;34m\u001b[0m\u001b[0;34m\u001b[0m\u001b[0m\n\u001b[0;32m--> 108\u001b[0;31m       \u001b[0;32mreturn\u001b[0m \u001b[0mmethod\u001b[0m\u001b[0;34m(\u001b[0m\u001b[0mself\u001b[0m\u001b[0;34m,\u001b[0m \u001b[0;34m*\u001b[0m\u001b[0margs\u001b[0m\u001b[0;34m,\u001b[0m \u001b[0;34m**\u001b[0m\u001b[0mkwargs\u001b[0m\u001b[0;34m)\u001b[0m\u001b[0;34m\u001b[0m\u001b[0;34m\u001b[0m\u001b[0m\n\u001b[0m\u001b[1;32m    109\u001b[0m \u001b[0;34m\u001b[0m\u001b[0m\n\u001b[1;32m    110\u001b[0m     \u001b[0;31m# Running inside `run_distribute_coordinator` already.\u001b[0m\u001b[0;34m\u001b[0m\u001b[0;34m\u001b[0m\u001b[0;34m\u001b[0m\u001b[0m\n",
            "\u001b[0;32m/usr/local/lib/python3.6/dist-packages/tensorflow/python/keras/engine/training.py\u001b[0m in \u001b[0;36mfit\u001b[0;34m(self, x, y, batch_size, epochs, verbose, callbacks, validation_split, validation_data, shuffle, class_weight, sample_weight, initial_epoch, steps_per_epoch, validation_steps, validation_batch_size, validation_freq, max_queue_size, workers, use_multiprocessing)\u001b[0m\n\u001b[1;32m   1096\u001b[0m                 batch_size=batch_size):\n\u001b[1;32m   1097\u001b[0m               \u001b[0mcallbacks\u001b[0m\u001b[0;34m.\u001b[0m\u001b[0mon_train_batch_begin\u001b[0m\u001b[0;34m(\u001b[0m\u001b[0mstep\u001b[0m\u001b[0;34m)\u001b[0m\u001b[0;34m\u001b[0m\u001b[0;34m\u001b[0m\u001b[0m\n\u001b[0;32m-> 1098\u001b[0;31m               \u001b[0mtmp_logs\u001b[0m \u001b[0;34m=\u001b[0m \u001b[0mtrain_function\u001b[0m\u001b[0;34m(\u001b[0m\u001b[0miterator\u001b[0m\u001b[0;34m)\u001b[0m\u001b[0;34m\u001b[0m\u001b[0;34m\u001b[0m\u001b[0m\n\u001b[0m\u001b[1;32m   1099\u001b[0m               \u001b[0;32mif\u001b[0m \u001b[0mdata_handler\u001b[0m\u001b[0;34m.\u001b[0m\u001b[0mshould_sync\u001b[0m\u001b[0;34m:\u001b[0m\u001b[0;34m\u001b[0m\u001b[0;34m\u001b[0m\u001b[0m\n\u001b[1;32m   1100\u001b[0m                 \u001b[0mcontext\u001b[0m\u001b[0;34m.\u001b[0m\u001b[0masync_wait\u001b[0m\u001b[0;34m(\u001b[0m\u001b[0;34m)\u001b[0m\u001b[0;34m\u001b[0m\u001b[0;34m\u001b[0m\u001b[0m\n",
            "\u001b[0;32m/usr/local/lib/python3.6/dist-packages/tensorflow/python/eager/def_function.py\u001b[0m in \u001b[0;36m__call__\u001b[0;34m(self, *args, **kwds)\u001b[0m\n\u001b[1;32m    778\u001b[0m       \u001b[0;32melse\u001b[0m\u001b[0;34m:\u001b[0m\u001b[0;34m\u001b[0m\u001b[0;34m\u001b[0m\u001b[0m\n\u001b[1;32m    779\u001b[0m         \u001b[0mcompiler\u001b[0m \u001b[0;34m=\u001b[0m \u001b[0;34m\"nonXla\"\u001b[0m\u001b[0;34m\u001b[0m\u001b[0;34m\u001b[0m\u001b[0m\n\u001b[0;32m--> 780\u001b[0;31m         \u001b[0mresult\u001b[0m \u001b[0;34m=\u001b[0m \u001b[0mself\u001b[0m\u001b[0;34m.\u001b[0m\u001b[0m_call\u001b[0m\u001b[0;34m(\u001b[0m\u001b[0;34m*\u001b[0m\u001b[0margs\u001b[0m\u001b[0;34m,\u001b[0m \u001b[0;34m**\u001b[0m\u001b[0mkwds\u001b[0m\u001b[0;34m)\u001b[0m\u001b[0;34m\u001b[0m\u001b[0;34m\u001b[0m\u001b[0m\n\u001b[0m\u001b[1;32m    781\u001b[0m \u001b[0;34m\u001b[0m\u001b[0m\n\u001b[1;32m    782\u001b[0m       \u001b[0mnew_tracing_count\u001b[0m \u001b[0;34m=\u001b[0m \u001b[0mself\u001b[0m\u001b[0;34m.\u001b[0m\u001b[0m_get_tracing_count\u001b[0m\u001b[0;34m(\u001b[0m\u001b[0;34m)\u001b[0m\u001b[0;34m\u001b[0m\u001b[0;34m\u001b[0m\u001b[0m\n",
            "\u001b[0;32m/usr/local/lib/python3.6/dist-packages/tensorflow/python/eager/def_function.py\u001b[0m in \u001b[0;36m_call\u001b[0;34m(self, *args, **kwds)\u001b[0m\n\u001b[1;32m    805\u001b[0m       \u001b[0;31m# In this case we have created variables on the first call, so we run the\u001b[0m\u001b[0;34m\u001b[0m\u001b[0;34m\u001b[0m\u001b[0;34m\u001b[0m\u001b[0m\n\u001b[1;32m    806\u001b[0m       \u001b[0;31m# defunned version which is guaranteed to never create variables.\u001b[0m\u001b[0;34m\u001b[0m\u001b[0;34m\u001b[0m\u001b[0;34m\u001b[0m\u001b[0m\n\u001b[0;32m--> 807\u001b[0;31m       \u001b[0;32mreturn\u001b[0m \u001b[0mself\u001b[0m\u001b[0;34m.\u001b[0m\u001b[0m_stateless_fn\u001b[0m\u001b[0;34m(\u001b[0m\u001b[0;34m*\u001b[0m\u001b[0margs\u001b[0m\u001b[0;34m,\u001b[0m \u001b[0;34m**\u001b[0m\u001b[0mkwds\u001b[0m\u001b[0;34m)\u001b[0m  \u001b[0;31m# pylint: disable=not-callable\u001b[0m\u001b[0;34m\u001b[0m\u001b[0;34m\u001b[0m\u001b[0m\n\u001b[0m\u001b[1;32m    808\u001b[0m     \u001b[0;32melif\u001b[0m \u001b[0mself\u001b[0m\u001b[0;34m.\u001b[0m\u001b[0m_stateful_fn\u001b[0m \u001b[0;32mis\u001b[0m \u001b[0;32mnot\u001b[0m \u001b[0;32mNone\u001b[0m\u001b[0;34m:\u001b[0m\u001b[0;34m\u001b[0m\u001b[0;34m\u001b[0m\u001b[0m\n\u001b[1;32m    809\u001b[0m       \u001b[0;31m# Release the lock early so that multiple threads can perform the call\u001b[0m\u001b[0;34m\u001b[0m\u001b[0;34m\u001b[0m\u001b[0;34m\u001b[0m\u001b[0m\n",
            "\u001b[0;32m/usr/local/lib/python3.6/dist-packages/tensorflow/python/eager/function.py\u001b[0m in \u001b[0;36m__call__\u001b[0;34m(self, *args, **kwargs)\u001b[0m\n\u001b[1;32m   2827\u001b[0m     \u001b[0;32mwith\u001b[0m \u001b[0mself\u001b[0m\u001b[0;34m.\u001b[0m\u001b[0m_lock\u001b[0m\u001b[0;34m:\u001b[0m\u001b[0;34m\u001b[0m\u001b[0;34m\u001b[0m\u001b[0m\n\u001b[1;32m   2828\u001b[0m       \u001b[0mgraph_function\u001b[0m\u001b[0;34m,\u001b[0m \u001b[0margs\u001b[0m\u001b[0;34m,\u001b[0m \u001b[0mkwargs\u001b[0m \u001b[0;34m=\u001b[0m \u001b[0mself\u001b[0m\u001b[0;34m.\u001b[0m\u001b[0m_maybe_define_function\u001b[0m\u001b[0;34m(\u001b[0m\u001b[0margs\u001b[0m\u001b[0;34m,\u001b[0m \u001b[0mkwargs\u001b[0m\u001b[0;34m)\u001b[0m\u001b[0;34m\u001b[0m\u001b[0;34m\u001b[0m\u001b[0m\n\u001b[0;32m-> 2829\u001b[0;31m     \u001b[0;32mreturn\u001b[0m \u001b[0mgraph_function\u001b[0m\u001b[0;34m.\u001b[0m\u001b[0m_filtered_call\u001b[0m\u001b[0;34m(\u001b[0m\u001b[0margs\u001b[0m\u001b[0;34m,\u001b[0m \u001b[0mkwargs\u001b[0m\u001b[0;34m)\u001b[0m  \u001b[0;31m# pylint: disable=protected-access\u001b[0m\u001b[0;34m\u001b[0m\u001b[0;34m\u001b[0m\u001b[0m\n\u001b[0m\u001b[1;32m   2830\u001b[0m \u001b[0;34m\u001b[0m\u001b[0m\n\u001b[1;32m   2831\u001b[0m   \u001b[0;34m@\u001b[0m\u001b[0mproperty\u001b[0m\u001b[0;34m\u001b[0m\u001b[0;34m\u001b[0m\u001b[0m\n",
            "\u001b[0;32m/usr/local/lib/python3.6/dist-packages/tensorflow/python/eager/function.py\u001b[0m in \u001b[0;36m_filtered_call\u001b[0;34m(self, args, kwargs, cancellation_manager)\u001b[0m\n\u001b[1;32m   1846\u001b[0m                            resource_variable_ops.BaseResourceVariable))],\n\u001b[1;32m   1847\u001b[0m         \u001b[0mcaptured_inputs\u001b[0m\u001b[0;34m=\u001b[0m\u001b[0mself\u001b[0m\u001b[0;34m.\u001b[0m\u001b[0mcaptured_inputs\u001b[0m\u001b[0;34m,\u001b[0m\u001b[0;34m\u001b[0m\u001b[0;34m\u001b[0m\u001b[0m\n\u001b[0;32m-> 1848\u001b[0;31m         cancellation_manager=cancellation_manager)\n\u001b[0m\u001b[1;32m   1849\u001b[0m \u001b[0;34m\u001b[0m\u001b[0m\n\u001b[1;32m   1850\u001b[0m   \u001b[0;32mdef\u001b[0m \u001b[0m_call_flat\u001b[0m\u001b[0;34m(\u001b[0m\u001b[0mself\u001b[0m\u001b[0;34m,\u001b[0m \u001b[0margs\u001b[0m\u001b[0;34m,\u001b[0m \u001b[0mcaptured_inputs\u001b[0m\u001b[0;34m,\u001b[0m \u001b[0mcancellation_manager\u001b[0m\u001b[0;34m=\u001b[0m\u001b[0;32mNone\u001b[0m\u001b[0;34m)\u001b[0m\u001b[0;34m:\u001b[0m\u001b[0;34m\u001b[0m\u001b[0;34m\u001b[0m\u001b[0m\n",
            "\u001b[0;32m/usr/local/lib/python3.6/dist-packages/tensorflow/python/eager/function.py\u001b[0m in \u001b[0;36m_call_flat\u001b[0;34m(self, args, captured_inputs, cancellation_manager)\u001b[0m\n\u001b[1;32m   1922\u001b[0m       \u001b[0;31m# No tape is watching; skip to running the function.\u001b[0m\u001b[0;34m\u001b[0m\u001b[0;34m\u001b[0m\u001b[0;34m\u001b[0m\u001b[0m\n\u001b[1;32m   1923\u001b[0m       return self._build_call_outputs(self._inference_function.call(\n\u001b[0;32m-> 1924\u001b[0;31m           ctx, args, cancellation_manager=cancellation_manager))\n\u001b[0m\u001b[1;32m   1925\u001b[0m     forward_backward = self._select_forward_and_backward_functions(\n\u001b[1;32m   1926\u001b[0m         \u001b[0margs\u001b[0m\u001b[0;34m,\u001b[0m\u001b[0;34m\u001b[0m\u001b[0;34m\u001b[0m\u001b[0m\n",
            "\u001b[0;32m/usr/local/lib/python3.6/dist-packages/tensorflow/python/eager/function.py\u001b[0m in \u001b[0;36mcall\u001b[0;34m(self, ctx, args, cancellation_manager)\u001b[0m\n\u001b[1;32m    548\u001b[0m               \u001b[0minputs\u001b[0m\u001b[0;34m=\u001b[0m\u001b[0margs\u001b[0m\u001b[0;34m,\u001b[0m\u001b[0;34m\u001b[0m\u001b[0;34m\u001b[0m\u001b[0m\n\u001b[1;32m    549\u001b[0m               \u001b[0mattrs\u001b[0m\u001b[0;34m=\u001b[0m\u001b[0mattrs\u001b[0m\u001b[0;34m,\u001b[0m\u001b[0;34m\u001b[0m\u001b[0;34m\u001b[0m\u001b[0m\n\u001b[0;32m--> 550\u001b[0;31m               ctx=ctx)\n\u001b[0m\u001b[1;32m    551\u001b[0m         \u001b[0;32melse\u001b[0m\u001b[0;34m:\u001b[0m\u001b[0;34m\u001b[0m\u001b[0;34m\u001b[0m\u001b[0m\n\u001b[1;32m    552\u001b[0m           outputs = execute.execute_with_cancellation(\n",
            "\u001b[0;32m/usr/local/lib/python3.6/dist-packages/tensorflow/python/eager/execute.py\u001b[0m in \u001b[0;36mquick_execute\u001b[0;34m(op_name, num_outputs, inputs, attrs, ctx, name)\u001b[0m\n\u001b[1;32m     58\u001b[0m     \u001b[0mctx\u001b[0m\u001b[0;34m.\u001b[0m\u001b[0mensure_initialized\u001b[0m\u001b[0;34m(\u001b[0m\u001b[0;34m)\u001b[0m\u001b[0;34m\u001b[0m\u001b[0;34m\u001b[0m\u001b[0m\n\u001b[1;32m     59\u001b[0m     tensors = pywrap_tfe.TFE_Py_Execute(ctx._handle, device_name, op_name,\n\u001b[0;32m---> 60\u001b[0;31m                                         inputs, attrs, num_outputs)\n\u001b[0m\u001b[1;32m     61\u001b[0m   \u001b[0;32mexcept\u001b[0m \u001b[0mcore\u001b[0m\u001b[0;34m.\u001b[0m\u001b[0m_NotOkStatusException\u001b[0m \u001b[0;32mas\u001b[0m \u001b[0me\u001b[0m\u001b[0;34m:\u001b[0m\u001b[0;34m\u001b[0m\u001b[0;34m\u001b[0m\u001b[0m\n\u001b[1;32m     62\u001b[0m     \u001b[0;32mif\u001b[0m \u001b[0mname\u001b[0m \u001b[0;32mis\u001b[0m \u001b[0;32mnot\u001b[0m \u001b[0;32mNone\u001b[0m\u001b[0;34m:\u001b[0m\u001b[0;34m\u001b[0m\u001b[0;34m\u001b[0m\u001b[0m\n",
            "\u001b[0;31mKeyboardInterrupt\u001b[0m: "
          ]
        }
      ]
    },
    {
      "cell_type": "code",
      "metadata": {
        "id": "E9wP3fpR3PZm",
        "colab_type": "code",
        "colab": {
          "base_uri": "https://localhost:8080/",
          "height": 272
        },
        "outputId": "902d5319-01d9-42da-f82f-844fb7e7ffc6"
      },
      "source": [
        "best_fit = tuner.get_best_models()[0]\n",
        "best_fit.evaluate(image_test, label_test)"
      ],
      "execution_count": 28,
      "outputs": [
        {
          "output_type": "stream",
          "text": [
            "WARNING:tensorflow:Unresolved object in checkpoint: (root).optimizer.iter\n"
          ],
          "name": "stdout"
        },
        {
          "output_type": "stream",
          "text": [
            "WARNING:tensorflow:Unresolved object in checkpoint: (root).optimizer.iter\n"
          ],
          "name": "stderr"
        },
        {
          "output_type": "stream",
          "text": [
            "WARNING:tensorflow:Unresolved object in checkpoint: (root).optimizer.beta_1\n"
          ],
          "name": "stdout"
        },
        {
          "output_type": "stream",
          "text": [
            "WARNING:tensorflow:Unresolved object in checkpoint: (root).optimizer.beta_1\n"
          ],
          "name": "stderr"
        },
        {
          "output_type": "stream",
          "text": [
            "WARNING:tensorflow:Unresolved object in checkpoint: (root).optimizer.beta_2\n"
          ],
          "name": "stdout"
        },
        {
          "output_type": "stream",
          "text": [
            "WARNING:tensorflow:Unresolved object in checkpoint: (root).optimizer.beta_2\n"
          ],
          "name": "stderr"
        },
        {
          "output_type": "stream",
          "text": [
            "WARNING:tensorflow:Unresolved object in checkpoint: (root).optimizer.decay\n"
          ],
          "name": "stdout"
        },
        {
          "output_type": "stream",
          "text": [
            "WARNING:tensorflow:Unresolved object in checkpoint: (root).optimizer.decay\n"
          ],
          "name": "stderr"
        },
        {
          "output_type": "stream",
          "text": [
            "WARNING:tensorflow:Unresolved object in checkpoint: (root).optimizer.learning_rate\n"
          ],
          "name": "stdout"
        },
        {
          "output_type": "stream",
          "text": [
            "WARNING:tensorflow:Unresolved object in checkpoint: (root).optimizer.learning_rate\n"
          ],
          "name": "stderr"
        },
        {
          "output_type": "stream",
          "text": [
            "WARNING:tensorflow:A checkpoint was restored (e.g. tf.train.Checkpoint.restore or tf.keras.Model.load_weights) but not all checkpointed values were used. See above for specific issues. Use expect_partial() on the load status object, e.g. tf.train.Checkpoint.restore(...).expect_partial(), to silence these warnings, or use assert_consumed() to make the check explicit. See https://www.tensorflow.org/guide/checkpoint#loading_mechanics for details.\n"
          ],
          "name": "stdout"
        },
        {
          "output_type": "stream",
          "text": [
            "WARNING:tensorflow:A checkpoint was restored (e.g. tf.train.Checkpoint.restore or tf.keras.Model.load_weights) but not all checkpointed values were used. See above for specific issues. Use expect_partial() on the load status object, e.g. tf.train.Checkpoint.restore(...).expect_partial(), to silence these warnings, or use assert_consumed() to make the check explicit. See https://www.tensorflow.org/guide/checkpoint#loading_mechanics for details.\n"
          ],
          "name": "stderr"
        },
        {
          "output_type": "stream",
          "text": [
            "760/760 [==============================] - 10s 13ms/step - loss: 0.3491 - accuracy: 0.8969\n"
          ],
          "name": "stdout"
        },
        {
          "output_type": "execute_result",
          "data": {
            "text/plain": [
              "[0.34909746050834656, 0.8968724012374878]"
            ]
          },
          "metadata": {
            "tags": []
          },
          "execution_count": 28
        }
      ]
    },
    {
      "cell_type": "markdown",
      "metadata": {
        "id": "v6IZ68TdjRoM",
        "colab_type": "text"
      },
      "source": [
        "## Summary of the best model for our image dataset"
      ]
    },
    {
      "cell_type": "code",
      "metadata": {
        "id": "EnUw0fT4gMzA",
        "colab_type": "code",
        "colab": {
          "base_uri": "https://localhost:8080/",
          "height": 386
        },
        "outputId": "424e80f4-375f-4fb8-8df4-a7ea110d9a19"
      },
      "source": [
        "best_fit.summary()"
      ],
      "execution_count": 29,
      "outputs": [
        {
          "output_type": "stream",
          "text": [
            "Model: \"sequential\"\n",
            "_________________________________________________________________\n",
            "Layer (type)                 Output Shape              Param #   \n",
            "=================================================================\n",
            "average_pooling2d (AveragePo (None, 19, 19, 1)         0         \n",
            "_________________________________________________________________\n",
            "conv2d (Conv2D)              (None, 17, 17, 32)        320       \n",
            "_________________________________________________________________\n",
            "max_pooling2d (MaxPooling2D) (None, 8, 8, 32)          0         \n",
            "_________________________________________________________________\n",
            "dropout (Dropout)            (None, 8, 8, 32)          0         \n",
            "_________________________________________________________________\n",
            "flatten (Flatten)            (None, 2048)              0         \n",
            "_________________________________________________________________\n",
            "dense (Dense)                (None, 128)               262272    \n",
            "_________________________________________________________________\n",
            "dense_1 (Dense)              (None, 5)                 645       \n",
            "=================================================================\n",
            "Total params: 263,237\n",
            "Trainable params: 263,237\n",
            "Non-trainable params: 0\n",
            "_________________________________________________________________\n"
          ],
          "name": "stdout"
        }
      ]
    },
    {
      "cell_type": "code",
      "metadata": {
        "id": "OAjwPOLjgo0q",
        "colab_type": "code",
        "colab": {
          "base_uri": "https://localhost:8080/",
          "height": 50
        },
        "outputId": "56e3c6e2-8a71-4f6d-cdc7-2f1f46abbd06"
      },
      "source": [
        "# The target results for one image example\n",
        "res = best_fit.predict(np.array([image_training[0]]))\n",
        "res"
      ],
      "execution_count": 36,
      "outputs": [
        {
          "output_type": "execute_result",
          "data": {
            "text/plain": [
              "array([[6.9743127e-02, 4.1872212e-03, 2.9028398e-01, 4.4856136e-04,\n",
              "        6.3533717e-01]], dtype=float32)"
            ]
          },
          "metadata": {
            "tags": []
          },
          "execution_count": 36
        }
      ]
    },
    {
      "cell_type": "markdown",
      "metadata": {
        "id": "gYYROlnuiIgz",
        "colab_type": "text"
      },
      "source": [
        "## Save the best convolutional neural network"
      ]
    },
    {
      "cell_type": "code",
      "metadata": {
        "id": "zWjb8NGTiNGt",
        "colab_type": "code",
        "colab": {
          "base_uri": "https://localhost:8080/",
          "height": 272
        },
        "outputId": "97806f65-f1ac-4a06-d8f2-d0d2d726df27"
      },
      "source": [
        "best_fit.save('./best_fit')"
      ],
      "execution_count": 39,
      "outputs": [
        {
          "output_type": "stream",
          "text": [
            "WARNING:tensorflow:From /usr/local/lib/python3.6/dist-packages/tensorflow/python/training/tracking/tracking.py:111: Model.state_updates (from tensorflow.python.keras.engine.training) is deprecated and will be removed in a future version.\n",
            "Instructions for updating:\n",
            "This property should not be used in TensorFlow 2.0, as updates are applied automatically.\n"
          ],
          "name": "stdout"
        },
        {
          "output_type": "stream",
          "text": [
            "WARNING:tensorflow:From /usr/local/lib/python3.6/dist-packages/tensorflow/python/training/tracking/tracking.py:111: Model.state_updates (from tensorflow.python.keras.engine.training) is deprecated and will be removed in a future version.\n",
            "Instructions for updating:\n",
            "This property should not be used in TensorFlow 2.0, as updates are applied automatically.\n"
          ],
          "name": "stderr"
        },
        {
          "output_type": "stream",
          "text": [
            "WARNING:tensorflow:From /usr/local/lib/python3.6/dist-packages/tensorflow/python/training/tracking/tracking.py:111: Layer.updates (from tensorflow.python.keras.engine.base_layer) is deprecated and will be removed in a future version.\n",
            "Instructions for updating:\n",
            "This property should not be used in TensorFlow 2.0, as updates are applied automatically.\n"
          ],
          "name": "stdout"
        },
        {
          "output_type": "stream",
          "text": [
            "WARNING:tensorflow:From /usr/local/lib/python3.6/dist-packages/tensorflow/python/training/tracking/tracking.py:111: Layer.updates (from tensorflow.python.keras.engine.base_layer) is deprecated and will be removed in a future version.\n",
            "Instructions for updating:\n",
            "This property should not be used in TensorFlow 2.0, as updates are applied automatically.\n"
          ],
          "name": "stderr"
        },
        {
          "output_type": "stream",
          "text": [
            "INFO:tensorflow:Assets written to: ./best_fit/assets\n"
          ],
          "name": "stdout"
        },
        {
          "output_type": "stream",
          "text": [
            "INFO:tensorflow:Assets written to: ./best_fit/assets\n"
          ],
          "name": "stderr"
        }
      ]
    },
    {
      "cell_type": "code",
      "metadata": {
        "id": "o4si5HUeiY_E",
        "colab_type": "code",
        "colab": {}
      },
      "source": [
        "load_CNN= keras.models.load_model('./best_fit')"
      ],
      "execution_count": 40,
      "outputs": []
    }
  ]
}